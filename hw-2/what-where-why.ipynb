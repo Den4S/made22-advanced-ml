{
 "cells": [
  {
   "cell_type": "markdown",
   "id": "9c34472f",
   "metadata": {},
   "source": [
    "## What? Where? Why?"
   ]
  },
  {
   "cell_type": "code",
   "execution_count": 1,
   "id": "ad9ed908",
   "metadata": {},
   "outputs": [
    {
     "name": "stderr",
     "output_type": "stream",
     "text": [
      "<frozen importlib._bootstrap>:219: RuntimeWarning: scipy._lib.messagestream.MessageStream size changed, may indicate binary incompatibility. Expected 56 from C header, got 64 from PyObject\n"
     ]
    }
   ],
   "source": [
    "import random\n",
    "import numpy as np\n",
    "import pandas as pd\n",
    "from scipy import stats\n",
    "from sklearn.linear_model import LogisticRegression"
   ]
  },
  {
   "cell_type": "code",
   "execution_count": 2,
   "id": "dbe2722b",
   "metadata": {},
   "outputs": [],
   "source": [
    "import pickle\n",
    "from tqdm import tqdm"
   ]
  },
  {
   "cell_type": "code",
   "execution_count": 3,
   "id": "510039ee",
   "metadata": {},
   "outputs": [],
   "source": [
    "import seaborn as sns\n",
    "import matplotlib.pyplot as plt\n",
    "\n",
    "%matplotlib inline\n",
    "%config InlineBackend.figure_format = 'retina'\n",
    "plt.style.use('bmh')"
   ]
  },
  {
   "cell_type": "code",
   "execution_count": 4,
   "id": "afbb708d",
   "metadata": {},
   "outputs": [],
   "source": [
    "import gc"
   ]
  },
  {
   "cell_type": "markdown",
   "id": "69823930",
   "metadata": {},
   "source": [
    "### Background\n",
    "В спортивном “Что? Где? Когда?” соревнующиеся команды отвечают на одни и те же вопросы. После минуты обсуждения команды записывают и сдают свои ответы на карточках; побеждает тот, кто ответил на большее число вопросов. Турнир обычно состоит из нескольких десятков вопросов (обычно `36` или `45`, иногда `60`, больше редко). Часто бывают синхронные турниры, когда на одни и те же вопросы отвечают команды на сотнях игровых площадок по всему миру, т.е. в одном турнире могут играть сотни, а то и тысячи команд. Соответственно, нам нужно:\n",
    "\n",
    "1. построить рейтинг-лист, который способен нетривиально предсказывать результаты будущих турниров;\n",
    "2. при этом, поскольку ЧГК — это хобби, и контрактов тут никаких нет, игроки постоянно переходят из команды в команду, сильный игрок может на один турнир сесть поиграть за другую команду и т.д.; поэтому **единицей рейтинг-листа** должна быть не команда, а **отдельный игрок**;\n",
    "3. а что сильно упрощает задачу и переводит её в область домашних заданий на EM-алгоритм — это характер данных: начиная с какого-то момента, в базу результатов начали вносить все повопросные результаты команд, т.е. в данных будут записи вида “какая команда на какой вопрос правильно ответила”."
   ]
  },
  {
   "cell_type": "code",
   "execution_count": 5,
   "id": "a8481e82",
   "metadata": {},
   "outputs": [],
   "source": [
    "def load_pickle(file_path):\n",
    "    with open(file_path, 'rb') as file:\n",
    "        unpickled = pickle.load(file)\n",
    "    return unpickled\n",
    "\n",
    "\n",
    "def dump_pickle(to_pickle, file_path):\n",
    "    with open(file_path, 'wb') as file:\n",
    "        pickle.dump(to_pickle, file)"
   ]
  },
  {
   "cell_type": "markdown",
   "id": "52e0413d",
   "metadata": {},
   "source": [
    "### Часть 1.\n",
    "\n",
    "Прочитайте и проанализируйте данные, выберите турниры, в которых есть данные о составах команд и повопросных результатах (поле `mask` в `results.pkl`). Для унификации предлагаю:\n",
    "- взять в тренировочный набор турниры с `dateStart` из 2019 года;\n",
    "- в тестовый — турниры с `dateStart` из 2020 года."
   ]
  },
  {
   "cell_type": "markdown",
   "id": "ca54f2ad",
   "metadata": {},
   "source": [
    "### Подготовка данных\n",
    "Если уже подготовлены - перейти сразу к загрузке!"
   ]
  },
  {
   "cell_type": "code",
   "execution_count": 6,
   "id": "6a7049c2",
   "metadata": {},
   "outputs": [
    {
     "name": "stdout",
     "output_type": "stream",
     "text": [
      "CPU times: user 9.58 s, sys: 16.8 s, total: 26.4 s\n",
      "Wall time: 34.7 s\n"
     ]
    }
   ],
   "source": [
    "%%time\n",
    "players = load_pickle(\"data/players.pkl\")\n",
    "results = load_pickle(\"data/results.pkl\")"
   ]
  },
  {
   "cell_type": "code",
   "execution_count": 7,
   "id": "69230080",
   "metadata": {},
   "outputs": [
    {
     "name": "stdout",
     "output_type": "stream",
     "text": [
      "Player #11 example:\n"
     ]
    },
    {
     "data": {
      "text/plain": [
       "{'id': 11, 'name': 'Наталья', 'patronymic': 'Юрьевна', 'surname': 'Абалымова'}"
      ]
     },
     "execution_count": 7,
     "metadata": {},
     "output_type": "execute_result"
    }
   ],
   "source": [
    "random_player = 11\n",
    "print(f\"Player #{random_player} example:\")\n",
    "players[random_player]"
   ]
  },
  {
   "cell_type": "code",
   "execution_count": 8,
   "id": "b9eb94e4",
   "metadata": {},
   "outputs": [],
   "source": [
    "tournaments = load_pickle(\"data/tournaments.pkl\")\n",
    "# to take a look on data\n",
    "random_tournament = random.randint(1, len(tournaments)) # random tournament data: dict[str: value]"
   ]
  },
  {
   "cell_type": "code",
   "execution_count": 9,
   "id": "1f74f016",
   "metadata": {
    "scrolled": true
   },
   "outputs": [
    {
     "name": "stdout",
     "output_type": "stream",
     "text": [
      "5528 tournaments\n",
      "\n",
      "Tournament #4245 data:\n",
      "('id', 4245)\n",
      "('name', 'Синхрон Мишеля Матвеева')\n",
      "('dateStart', '2017-03-18T10:00:00+03:00')\n",
      "('dateEnd', '2017-03-22T10:00:00+03:00')\n",
      "('type', {'id': 3, 'name': 'Синхрон'})\n",
      "('season', '/seasons/50')\n",
      "('orgcommittee', [{'id': 20207, 'name': 'Михаил', 'patronymic': 'Леонидович', 'surname': 'Матвеев'}])\n",
      "('synchData', {'dateRequestsAllowedTo': '2017-03-21T23:59:59+03:00', 'resultFixesTo': '2017-04-03T23:59:59+03:00', 'resultsRecapsTo': '2017-03-24T23:59:59+03:00', 'allowAppealCancel': True, 'allowNarratorErrorAppeal': False, 'dateArchivedAt': '2017-04-08T23:59:59+03:00', 'dateDownloadQuestionsFrom': '2017-03-16T00:00:00+03:00', 'dateDownloadQuestionsTo': '2017-03-22T10:00:00+03:00', 'hideQuestionsTo': '2017-03-22T23:59:59+03:00', 'hideResultsTo': '2017-03-21T23:59:59+03:00', 'allVerdictsDone': None, 'instantControversial': True})\n",
      "('questionQty', {'1': 14, '2': 13, '3': 13})\n",
      "\n",
      "Results example:\n",
      "('team', {'id': 3951, 'name': 'Eclipse', 'town': {'id': 285, 'name': 'Санкт-Петербург'}})\n",
      "('mask', '11111011X01101111101111111X1111111111011')\n",
      "('current', {'name': 'Eclipse', 'town': {'id': 285, 'name': 'Санкт-Петербург'}})\n",
      "('questionsTotal', 33)\n",
      "('synchRequest', {'id': 31371, 'venue': {'id': 3030, 'name': 'Санкт-Петербург'}})\n",
      "('position', 1)\n",
      "('controversials', [])\n",
      "('flags', [])\n",
      "('teamMembers', [{'flag': 'Л', 'usedRating': 13805, 'rating': 13805, 'player': {'id': 18332, 'name': 'Александр', 'patronymic': 'Витальевич', 'surname': 'Либер'}}, {'flag': 'Л', 'usedRating': 10054, 'rating': 12065, 'player': {'id': 3207, 'name': 'Ольга', 'patronymic': 'Игоревна', 'surname': 'Берёзкина'}}, {'flag': 'Б', 'usedRating': 6862, 'rating': 10293, 'player': {'id': 23020, 'name': 'Наталия', 'patronymic': 'Васильевна', 'surname': 'Новыш'}}, {'flag': 'Б', 'usedRating': 4996, 'rating': 10005, 'player': {'id': 4121, 'name': 'Антон', 'patronymic': 'Алексеевич', 'surname': 'Бочкарёв'}}, {'flag': 'Б', 'usedRating': 3274, 'rating': 9821, 'player': {'id': 19060, 'name': 'Александр', 'patronymic': 'Александрович', 'surname': 'Людикайнен'}}, {'flag': 'Б', 'usedRating': 1271, 'rating': 7624, 'player': {'id': 26798, 'name': 'Анна', 'patronymic': 'Григорьевна', 'surname': 'Резникова'}}])\n"
     ]
    }
   ],
   "source": [
    "print(f\"{len(tournaments)} tournaments\", end='\\n\\n')\n",
    "print(f\"Tournament #{random_tournament} data:\")\n",
    "print(*list(tournaments[random_tournament].items()), sep='\\n', end='\\n\\n')\n",
    "print(\"Results example:\")\n",
    "print(*list(results[random_tournament][0].items()), sep='\\n')"
   ]
  },
  {
   "cell_type": "code",
   "execution_count": 10,
   "id": "7a3a0821",
   "metadata": {},
   "outputs": [],
   "source": [
    "TRAIN_START_YEAR = \"2019\"\n",
    "TEST_START_YEAR = \"2020\"\n",
    "\n",
    "\n",
    "def tournament_in_group(tournament, result, group: str):\n",
    "    '''\n",
    "    Function for train/test split\n",
    "    Train: all tournaments with dateStart == 2019\n",
    "    Test: all tournaments with dateStart == 2020\n",
    "    Include tournaments with teams line-ups and 'mask' field in results.pkl\n",
    "    \n",
    "    Arguments:\n",
    "        tournament: dict\n",
    "        result: dict\n",
    "        group: str \"train\" or \"test\"\n",
    "    Return:\n",
    "        True  - if we add tournament to the group\n",
    "        False - if not\n",
    "    '''\n",
    "    tournament_year = tournament[\"dateStart\"][:4]\n",
    "    # YEAR THRESHOLDS CHECK\n",
    "    if ((group == \"train\" and tournament_year != TRAIN_START_YEAR) or\n",
    "        (group == \"test\" and tournament_year != TEST_START_YEAR)):\n",
    "        # exclude from TRAIN set all tournaments with dateStart != 2019\n",
    "        # exclude from TEST set all tournaments with dateStart != 2020\n",
    "        return False\n",
    "    \n",
    "    return tournament_result_check(tournament, result)\n",
    "\n",
    "\n",
    "def key_not_in_dict(key, dct):\n",
    "    '''\n",
    "    Just a usefull function to check if the key contains in dict\n",
    "    '''\n",
    "    return ((key not in dct) or (dct[key] is None))\n",
    "    \n",
    "\n",
    "def tournament_result_check(tournament, result):\n",
    "    '''\n",
    "    Check if we have all necessary data about team results\n",
    "    Return:\n",
    "        True or False\n",
    "    '''\n",
    "    if len(result) == 0:\n",
    "        # no results for the tournament\n",
    "        return False\n",
    "    \n",
    "    # number of question in tournament\n",
    "    questions_number =  sum(tournament[\"questionQty\"].values())\n",
    "    \n",
    "    for team in result:\n",
    "        if key_not_in_dict(\"mask\", team) or key_not_in_dict(\"teamMembers\", team):\n",
    "            # further we need to analyse masks for players ranking\n",
    "            # need not empty teamMembers for players ranking!\n",
    "            return False\n",
    "        if len(team[\"mask\"]) != questions_number:\n",
    "            # check the correspondence between number of questions for all teams masks\n",
    "            return False\n",
    "        \n",
    "    return True"
   ]
  },
  {
   "cell_type": "code",
   "execution_count": 11,
   "id": "63b2768c",
   "metadata": {},
   "outputs": [],
   "source": [
    "# serialization pathes\n",
    "tournaments_train_path = \"data/tournaments_train.pkl\"\n",
    "tournaments_test_path = \"data/tournaments_test.pkl\"\n",
    "\n",
    "results_train_path = \"data/results_train.pkl\"\n",
    "results_test_path = \"data/results_test.pkl\"\n",
    "\n",
    "players_train_path = \"data/players_train.pkl\""
   ]
  },
  {
   "cell_type": "markdown",
   "id": "1905d16a",
   "metadata": {},
   "source": [
    "### Если данные уже были подготовлены, то подгружаем >>"
   ]
  },
  {
   "cell_type": "code",
   "execution_count": 12,
   "id": "705042c2",
   "metadata": {},
   "outputs": [
    {
     "name": "stdout",
     "output_type": "stream",
     "text": [
      "Tournaments splitting\n",
      "Train size: 660\n",
      "Test size: 164\n",
      "\n",
      "CPU times: user 87.9 ms, sys: 260 ms, total: 348 ms\n",
      "Wall time: 428 ms\n"
     ]
    }
   ],
   "source": [
    "%%time\n",
    "# tournaments train/test splitting and serialization\n",
    "\n",
    "print(\"Tournaments splitting\")\n",
    "T_train = {key: tour for key, tour in tournaments.items() if tournament_in_group(tour, results[key], \"train\")}\n",
    "T_test = {key: tour for key, tour in tournaments.items() if tournament_in_group(tour, results[key], \"test\")}\n",
    "\n",
    "# serialize\n",
    "dump_pickle(T_train, tournaments_train_path)\n",
    "dump_pickle(T_test, tournaments_test_path)\n",
    "print(f\"Train size: {len(T_train)}\\nTest size: {len(T_test)}\", end='\\n\\n')"
   ]
  },
  {
   "cell_type": "code",
   "execution_count": 13,
   "id": "24468cce",
   "metadata": {},
   "outputs": [
    {
     "name": "stdout",
     "output_type": "stream",
     "text": [
      "Results splitting\n",
      "Train size: 660\n",
      "Test size: 164\n",
      "\n",
      "CPU times: user 1.26 s, sys: 462 ms, total: 1.72 s\n",
      "Wall time: 2.22 s\n"
     ]
    }
   ],
   "source": [
    "%%time\n",
    "# results train/test splitting and serialization (according to the previous cell)\n",
    "\n",
    "print(\"Results splitting\")\n",
    "R_train = {key: results[key] for key in T_train.keys()}\n",
    "R_test = {key: results[key] for key in T_test.keys()}\n",
    "\n",
    "# serialize\n",
    "dump_pickle(R_train, results_train_path)\n",
    "dump_pickle(R_test, results_test_path)\n",
    "print(f\"Train size: {len(R_train)}\\nTest size: {len(R_test)}\", end='\\n\\n')"
   ]
  },
  {
   "cell_type": "code",
   "execution_count": 14,
   "id": "77ce27af",
   "metadata": {},
   "outputs": [
    {
     "name": "stdout",
     "output_type": "stream",
     "text": [
      "Players that took part in tournaments from TRAIN:\n",
      "56865\n",
      "\n",
      "CPU times: user 192 ms, sys: 94.1 ms, total: 286 ms\n",
      "Wall time: 328 ms\n"
     ]
    }
   ],
   "source": [
    "%%time\n",
    "\n",
    "players_set = set()  # set of players (id's) that took part in tournaments from train\n",
    "for key in T_train.keys():\n",
    "    for team in results[key]:\n",
    "        for player in team[\"teamMembers\"]:\n",
    "            players_set.add(player[\"player\"][\"id\"])\n",
    "\n",
    "# serialize\n",
    "P_train = {key: val for key, val in players.items() if key in players_set}\n",
    "dump_pickle(P_train, players_train_path)\n",
    "\n",
    "print(f\"Players that took part in tournaments from TRAIN:\\n{len(P_train)}\", end='\\n\\n')"
   ]
  },
  {
   "cell_type": "markdown",
   "id": "042cb8fe",
   "metadata": {},
   "source": [
    "### >> Загрузка _уже подготовленных_ данных"
   ]
  },
  {
   "cell_type": "code",
   "execution_count": 15,
   "id": "1455b744",
   "metadata": {},
   "outputs": [
    {
     "name": "stdout",
     "output_type": "stream",
     "text": [
      "CPU times: user 3.93 s, sys: 12.5 s, total: 16.4 s\n",
      "Wall time: 22.1 s\n"
     ]
    }
   ],
   "source": [
    "%%time\n",
    "# splitted tournaments\n",
    "T_train = load_pickle(tournaments_train_path)\n",
    "T_test = load_pickle(tournaments_test_path)\n",
    "# splitted results\n",
    "R_train = load_pickle(results_train_path)\n",
    "R_test = load_pickle(results_train_path)\n",
    "# players\n",
    "P_train = load_pickle(players_train_path)"
   ]
  },
  {
   "cell_type": "code",
   "execution_count": 16,
   "id": "c1a0ead2",
   "metadata": {},
   "outputs": [
    {
     "name": "stdout",
     "output_type": "stream",
     "text": [
      "(56865, 4)\n"
     ]
    },
    {
     "data": {
      "text/html": [
       "<div>\n",
       "<style scoped>\n",
       "    .dataframe tbody tr th:only-of-type {\n",
       "        vertical-align: middle;\n",
       "    }\n",
       "\n",
       "    .dataframe tbody tr th {\n",
       "        vertical-align: top;\n",
       "    }\n",
       "\n",
       "    .dataframe thead th {\n",
       "        text-align: right;\n",
       "    }\n",
       "</style>\n",
       "<table border=\"1\" class=\"dataframe\">\n",
       "  <thead>\n",
       "    <tr style=\"text-align: right;\">\n",
       "      <th></th>\n",
       "      <th>id</th>\n",
       "      <th>name</th>\n",
       "      <th>patronymic</th>\n",
       "      <th>surname</th>\n",
       "    </tr>\n",
       "  </thead>\n",
       "  <tbody>\n",
       "    <tr>\n",
       "      <th>15</th>\n",
       "      <td>15</td>\n",
       "      <td>Олег</td>\n",
       "      <td>Игоревич</td>\n",
       "      <td>Абарников</td>\n",
       "    </tr>\n",
       "    <tr>\n",
       "      <th>16</th>\n",
       "      <td>16</td>\n",
       "      <td>Азер</td>\n",
       "      <td>Абасали оглы</td>\n",
       "      <td>Абасалиев</td>\n",
       "    </tr>\n",
       "    <tr>\n",
       "      <th>23</th>\n",
       "      <td>23</td>\n",
       "      <td>Андрей</td>\n",
       "      <td>Николаевич</td>\n",
       "      <td>Абащенко</td>\n",
       "    </tr>\n",
       "    <tr>\n",
       "      <th>31</th>\n",
       "      <td>31</td>\n",
       "      <td>Ситара</td>\n",
       "      <td>Фахраддин гызы</td>\n",
       "      <td>Абасова</td>\n",
       "    </tr>\n",
       "    <tr>\n",
       "      <th>35</th>\n",
       "      <td>35</td>\n",
       "      <td>Нарек</td>\n",
       "      <td>Гагикович</td>\n",
       "      <td>Абгарян</td>\n",
       "    </tr>\n",
       "  </tbody>\n",
       "</table>\n",
       "</div>"
      ],
      "text/plain": [
       "    id    name      patronymic    surname\n",
       "15  15    Олег        Игоревич  Абарников\n",
       "16  16    Азер    Абасали оглы  Абасалиев\n",
       "23  23  Андрей      Николаевич   Абащенко\n",
       "31  31  Ситара  Фахраддин гызы    Абасова\n",
       "35  35   Нарек       Гагикович    Абгарян"
      ]
     },
     "execution_count": 16,
     "metadata": {},
     "output_type": "execute_result"
    }
   ],
   "source": [
    "P_train_df = pd.DataFrame.from_dict(P_train, orient=\"index\")\n",
    "print(P_train_df.shape)\n",
    "P_train_df.head()"
   ]
  },
  {
   "cell_type": "code",
   "execution_count": 20,
   "id": "5df055e0",
   "metadata": {},
   "outputs": [
    {
     "name": "stdout",
     "output_type": "stream",
     "text": [
      "(660, 9)\n"
     ]
    },
    {
     "data": {
      "text/html": [
       "<div>\n",
       "<style scoped>\n",
       "    .dataframe tbody tr th:only-of-type {\n",
       "        vertical-align: middle;\n",
       "    }\n",
       "\n",
       "    .dataframe tbody tr th {\n",
       "        vertical-align: top;\n",
       "    }\n",
       "\n",
       "    .dataframe thead th {\n",
       "        text-align: right;\n",
       "    }\n",
       "</style>\n",
       "<table border=\"1\" class=\"dataframe\">\n",
       "  <thead>\n",
       "    <tr style=\"text-align: right;\">\n",
       "      <th></th>\n",
       "      <th>id</th>\n",
       "      <th>name</th>\n",
       "      <th>dateStart</th>\n",
       "      <th>dateEnd</th>\n",
       "      <th>type</th>\n",
       "      <th>season</th>\n",
       "      <th>orgcommittee</th>\n",
       "      <th>synchData</th>\n",
       "      <th>questionQty</th>\n",
       "    </tr>\n",
       "  </thead>\n",
       "  <tbody>\n",
       "    <tr>\n",
       "      <th>4772</th>\n",
       "      <td>4772</td>\n",
       "      <td>Синхрон северных стран. Зимний выпуск</td>\n",
       "      <td>2019-01-05T19:00:00+03:00</td>\n",
       "      <td>2019-01-09T19:00:00+03:00</td>\n",
       "      <td>{'id': 3, 'name': 'Синхрон'}</td>\n",
       "      <td>/seasons/52</td>\n",
       "      <td>[{'id': 28379, 'name': 'Константин', 'patronym...</td>\n",
       "      <td>{'dateRequestsAllowedTo': '2019-01-09T23:59:59...</td>\n",
       "      <td>{'1': 12, '2': 12, '3': 12}</td>\n",
       "    </tr>\n",
       "    <tr>\n",
       "      <th>4973</th>\n",
       "      <td>4973</td>\n",
       "      <td>Балтийский Берег. 3 игра</td>\n",
       "      <td>2019-01-25T19:05:00+03:00</td>\n",
       "      <td>2019-01-29T19:00:00+03:00</td>\n",
       "      <td>{'id': 3, 'name': 'Синхрон'}</td>\n",
       "      <td>/seasons/52</td>\n",
       "      <td>[{'id': 23030, 'name': 'Марина', 'patronymic':...</td>\n",
       "      <td>{'dateRequestsAllowedTo': '2019-01-28T23:59:59...</td>\n",
       "      <td>{'1': 12, '2': 12, '3': 12}</td>\n",
       "    </tr>\n",
       "  </tbody>\n",
       "</table>\n",
       "</div>"
      ],
      "text/plain": [
       "        id                                   name                  dateStart  \\\n",
       "4772  4772  Синхрон северных стран. Зимний выпуск  2019-01-05T19:00:00+03:00   \n",
       "4973  4973               Балтийский Берег. 3 игра  2019-01-25T19:05:00+03:00   \n",
       "\n",
       "                        dateEnd                          type       season  \\\n",
       "4772  2019-01-09T19:00:00+03:00  {'id': 3, 'name': 'Синхрон'}  /seasons/52   \n",
       "4973  2019-01-29T19:00:00+03:00  {'id': 3, 'name': 'Синхрон'}  /seasons/52   \n",
       "\n",
       "                                           orgcommittee  \\\n",
       "4772  [{'id': 28379, 'name': 'Константин', 'patronym...   \n",
       "4973  [{'id': 23030, 'name': 'Марина', 'patronymic':...   \n",
       "\n",
       "                                              synchData  \\\n",
       "4772  {'dateRequestsAllowedTo': '2019-01-09T23:59:59...   \n",
       "4973  {'dateRequestsAllowedTo': '2019-01-28T23:59:59...   \n",
       "\n",
       "                      questionQty  \n",
       "4772  {'1': 12, '2': 12, '3': 12}  \n",
       "4973  {'1': 12, '2': 12, '3': 12}  "
      ]
     },
     "execution_count": 20,
     "metadata": {},
     "output_type": "execute_result"
    }
   ],
   "source": [
    "T_train_df = pd.DataFrame.from_dict(T_train, orient=\"index\")\n",
    "print(T_train_df.shape)\n",
    "T_train_df.head(2)"
   ]
  },
  {
   "cell_type": "code",
   "execution_count": 21,
   "id": "435fc0ee",
   "metadata": {},
   "outputs": [
    {
     "name": "stdout",
     "output_type": "stream",
     "text": [
      "(660, 1218)\n"
     ]
    },
    {
     "data": {
      "text/html": [
       "<div>\n",
       "<style scoped>\n",
       "    .dataframe tbody tr th:only-of-type {\n",
       "        vertical-align: middle;\n",
       "    }\n",
       "\n",
       "    .dataframe tbody tr th {\n",
       "        vertical-align: top;\n",
       "    }\n",
       "\n",
       "    .dataframe thead th {\n",
       "        text-align: right;\n",
       "    }\n",
       "</style>\n",
       "<table border=\"1\" class=\"dataframe\">\n",
       "  <thead>\n",
       "    <tr style=\"text-align: right;\">\n",
       "      <th></th>\n",
       "      <th>0</th>\n",
       "      <th>1</th>\n",
       "      <th>2</th>\n",
       "      <th>3</th>\n",
       "      <th>4</th>\n",
       "      <th>5</th>\n",
       "      <th>6</th>\n",
       "      <th>7</th>\n",
       "      <th>8</th>\n",
       "      <th>9</th>\n",
       "      <th>...</th>\n",
       "      <th>1208</th>\n",
       "      <th>1209</th>\n",
       "      <th>1210</th>\n",
       "      <th>1211</th>\n",
       "      <th>1212</th>\n",
       "      <th>1213</th>\n",
       "      <th>1214</th>\n",
       "      <th>1215</th>\n",
       "      <th>1216</th>\n",
       "      <th>1217</th>\n",
       "    </tr>\n",
       "  </thead>\n",
       "  <tbody>\n",
       "    <tr>\n",
       "      <th>4772</th>\n",
       "      <td>{'team': {'id': 45556, 'name': 'Рабочее назван...</td>\n",
       "      <td>{'team': {'id': 1030, 'name': 'Сборная Бутана'...</td>\n",
       "      <td>{'team': {'id': 4252, 'name': 'Ять', 'town': {...</td>\n",
       "      <td>{'team': {'id': 5444, 'name': 'Эйфью', 'town':...</td>\n",
       "      <td>{'team': {'id': 40931, 'name': 'Здоровенный Я'...</td>\n",
       "      <td>{'team': {'id': 47075, 'name': 'Оператор Дамбл...</td>\n",
       "      <td>{'team': {'id': 53185, 'name': 'Сербский мульт...</td>\n",
       "      <td>{'team': {'id': 58596, 'name': 'Аутята', 'town...</td>\n",
       "      <td>{'team': {'id': 68786, 'name': 'Сцилла', 'town...</td>\n",
       "      <td>{'team': {'id': 1903, 'name': 'Big Narvasadata...</td>\n",
       "      <td>...</td>\n",
       "      <td>None</td>\n",
       "      <td>None</td>\n",
       "      <td>None</td>\n",
       "      <td>None</td>\n",
       "      <td>None</td>\n",
       "      <td>None</td>\n",
       "      <td>None</td>\n",
       "      <td>None</td>\n",
       "      <td>None</td>\n",
       "      <td>None</td>\n",
       "    </tr>\n",
       "    <tr>\n",
       "      <th>4973</th>\n",
       "      <td>{'team': {'id': 45556, 'name': 'Рабочее назван...</td>\n",
       "      <td>{'team': {'id': 69309, 'name': 'Брют', 'town':...</td>\n",
       "      <td>{'team': {'id': 27522, 'name': 'Жареные гвозди...</td>\n",
       "      <td>{'team': {'id': 67979, 'name': 'Поминки по фин...</td>\n",
       "      <td>{'team': {'id': 2055, 'name': 'ForУМ', 'town':...</td>\n",
       "      <td>{'team': {'id': 4032, 'name': 'X-promt', 'town...</td>\n",
       "      <td>{'team': {'id': 6936, 'name': 'Хронически разу...</td>\n",
       "      <td>{'team': {'id': 38530, 'name': 'И немедленно в...</td>\n",
       "      <td>{'team': {'id': 41492, 'name': 'Бедлам', 'town...</td>\n",
       "      <td>{'team': {'id': 46356, 'name': 'Jus Naturale',...</td>\n",
       "      <td>...</td>\n",
       "      <td>None</td>\n",
       "      <td>None</td>\n",
       "      <td>None</td>\n",
       "      <td>None</td>\n",
       "      <td>None</td>\n",
       "      <td>None</td>\n",
       "      <td>None</td>\n",
       "      <td>None</td>\n",
       "      <td>None</td>\n",
       "      <td>None</td>\n",
       "    </tr>\n",
       "  </tbody>\n",
       "</table>\n",
       "<p>2 rows × 1218 columns</p>\n",
       "</div>"
      ],
      "text/plain": [
       "                                                   0     \\\n",
       "4772  {'team': {'id': 45556, 'name': 'Рабочее назван...   \n",
       "4973  {'team': {'id': 45556, 'name': 'Рабочее назван...   \n",
       "\n",
       "                                                   1     \\\n",
       "4772  {'team': {'id': 1030, 'name': 'Сборная Бутана'...   \n",
       "4973  {'team': {'id': 69309, 'name': 'Брют', 'town':...   \n",
       "\n",
       "                                                   2     \\\n",
       "4772  {'team': {'id': 4252, 'name': 'Ять', 'town': {...   \n",
       "4973  {'team': {'id': 27522, 'name': 'Жареные гвозди...   \n",
       "\n",
       "                                                   3     \\\n",
       "4772  {'team': {'id': 5444, 'name': 'Эйфью', 'town':...   \n",
       "4973  {'team': {'id': 67979, 'name': 'Поминки по фин...   \n",
       "\n",
       "                                                   4     \\\n",
       "4772  {'team': {'id': 40931, 'name': 'Здоровенный Я'...   \n",
       "4973  {'team': {'id': 2055, 'name': 'ForУМ', 'town':...   \n",
       "\n",
       "                                                   5     \\\n",
       "4772  {'team': {'id': 47075, 'name': 'Оператор Дамбл...   \n",
       "4973  {'team': {'id': 4032, 'name': 'X-promt', 'town...   \n",
       "\n",
       "                                                   6     \\\n",
       "4772  {'team': {'id': 53185, 'name': 'Сербский мульт...   \n",
       "4973  {'team': {'id': 6936, 'name': 'Хронически разу...   \n",
       "\n",
       "                                                   7     \\\n",
       "4772  {'team': {'id': 58596, 'name': 'Аутята', 'town...   \n",
       "4973  {'team': {'id': 38530, 'name': 'И немедленно в...   \n",
       "\n",
       "                                                   8     \\\n",
       "4772  {'team': {'id': 68786, 'name': 'Сцилла', 'town...   \n",
       "4973  {'team': {'id': 41492, 'name': 'Бедлам', 'town...   \n",
       "\n",
       "                                                   9     ...  1208  1209  \\\n",
       "4772  {'team': {'id': 1903, 'name': 'Big Narvasadata...  ...  None  None   \n",
       "4973  {'team': {'id': 46356, 'name': 'Jus Naturale',...  ...  None  None   \n",
       "\n",
       "      1210  1211  1212  1213  1214  1215  1216  1217  \n",
       "4772  None  None  None  None  None  None  None  None  \n",
       "4973  None  None  None  None  None  None  None  None  \n",
       "\n",
       "[2 rows x 1218 columns]"
      ]
     },
     "execution_count": 21,
     "metadata": {},
     "output_type": "execute_result"
    }
   ],
   "source": [
    "R_train_df = pd.DataFrame.from_dict(R_train, orient=\"index\")\n",
    "print(R_train_df.shape)\n",
    "R_train_df.head(2)"
   ]
  },
  {
   "cell_type": "code",
   "execution_count": 19,
   "id": "e97c9be7",
   "metadata": {},
   "outputs": [
    {
     "data": {
      "text/plain": [
       "0"
      ]
     },
     "execution_count": 19,
     "metadata": {},
     "output_type": "execute_result"
    }
   ],
   "source": [
    "gc.collect()"
   ]
  },
  {
   "cell_type": "markdown",
   "id": "41819c43",
   "metadata": {},
   "source": [
    "### Часть 2.\n",
    "\n",
    "Постройте baseline-модель на основе линейной или логистической регрессии, которая будет обучать рейтинг-лист игроков. Замечания и подсказки:\n",
    "- повопросные результаты — это фактически результаты броска монетки, и их предсказание скорее всего имеет отношение к бинарной классификации;\n",
    "- в разных турнирах вопросы совсем разного уровня сложности, поэтому модель должна это учитывать; скорее всего, модель должна будет явно обучать не только силу каждого игрока, но и сложность каждого вопроса;\n",
    "- для baseline-модели можно забыть о командах и считать, что повопросные результаты команды просто относятся к каждому из её игроков."
   ]
  },
  {
   "cell_type": "markdown",
   "id": "8aee711e",
   "metadata": {},
   "source": [
    "1. Давайте считать, что игрк тем выше в рейтинге, чем выше **вероятность того, что игрок ответит на случайный вопрос** – $P(\\boldsymbol{\\text{answer}})$ или $P(\\boldsymbol{a})$.\n",
    "2. В свою очередь, как нам подсказывают, вопросы могут отличаться по **простоте** – simplicity ($\\boldsymbol{s}$). Простоту вопроса можно оценивать по проценту команд (или участников), ответивших на данный вопрос правильно: чем больше участников ответили на вопрос - тем он был проще.\n",
    "3. Плотность случайной величины (вероятности ответа) для отдельно взятого игрока\n",
    "$$p(\\text{answer})=\\int p(\\text{answer}, \\text{simplicity})d(\\text{simplicity}) = \\int p(\\boldsymbol{a}|\\boldsymbol{s})p(\\boldsymbol{s})d\\boldsymbol{s}$$\n",
    "4. Плотность вероятности $p(\\boldsymbol{s})$ можно оценить по данным"
   ]
  },
  {
   "cell_type": "markdown",
   "id": "419c0dd5",
   "metadata": {},
   "source": [
    "На осове имеющихся данных расчитаем сложность каждого вопроса. Вопросам будем присваивать индексы в соответствии с индексом турнира, на котором они были заданы: $id_\\text{question} = N_\\text{max}\\cdot id_\\text{tournament} + [\\text{question number in the tournament}]$, где $N_\\text{max}$ – максимально возможное число вопросов в турнире (по данным)."
   ]
  },
  {
   "cell_type": "code",
   "execution_count": 22,
   "id": "2f71ffa1",
   "metadata": {},
   "outputs": [
    {
     "data": {
      "text/plain": [
       "count    660.000000\n",
       "mean      46.539394\n",
       "std       29.086600\n",
       "min       23.000000\n",
       "25%       36.000000\n",
       "50%       36.000000\n",
       "75%       45.000000\n",
       "max      500.000000\n",
       "Name: questionQty, dtype: float64"
      ]
     },
     "execution_count": 22,
     "metadata": {},
     "output_type": "execute_result"
    }
   ],
   "source": [
    "# distribution of the number of questions in one tournament\n",
    "T_train_df[\"questionQty\"].map(lambda x: sum(x.values())).describe()"
   ]
  },
  {
   "cell_type": "code",
   "execution_count": 23,
   "id": "ee136eec",
   "metadata": {},
   "outputs": [],
   "source": [
    "NUM_Q_MAX = 500  # the maximal number of questions in one tournament"
   ]
  },
  {
   "cell_type": "code",
   "execution_count": 24,
   "id": "11ca9ecd",
   "metadata": {},
   "outputs": [],
   "source": [
    "def get_q_id(tournament_id: int, question_number: int):\n",
    "    return tournament_id * NUM_Q_MAX + question_number"
   ]
  },
  {
   "cell_type": "code",
   "execution_count": 25,
   "id": "2e6c404e",
   "metadata": {},
   "outputs": [],
   "source": [
    "def get_q_simplicity(results: dict):\n",
    "    '''\n",
    "    Group info about questions simplicity in one DF\n",
    "    Return:\n",
    "        DataFrame (question_id: int - simplicity of the question: float <= 1) \n",
    "    '''\n",
    "    dict_df = {\"q_id\": [], \"simplicity\": []}\n",
    "    \n",
    "    for tour_id, result in results.items():  # go through all tournaments\n",
    "        tour_num_q = len(result[0][\"mask\"])  # number of questions in the tournament\n",
    "        tour_questions = np.zeros(tour_num_q)  # for each question in the tournament store the number of teams answered the question\n",
    "        for team in result:\n",
    "            for ind in range(tour_num_q):\n",
    "                if team[\"mask\"][ind] == \"1\":\n",
    "                    tour_questions[ind] += 1\n",
    "        tour_questions /= len(result)  # normalize by number of teams in tournament\n",
    "\n",
    "        for ind in range(tour_num_q):\n",
    "            q_id = get_q_id(tour_id, ind)  # index of the question in our notation\n",
    "            dict_df[\"q_id\"].append(q_id)\n",
    "            dict_df[\"simplicity\"].append(tour_questions[ind])\n",
    "            \n",
    "    return pd.DataFrame(dict_df[\"simplicity\"],\n",
    "                        columns=[\"simplicity\"], \n",
    "                        index=dict_df[\"q_id\"])"
   ]
  },
  {
   "cell_type": "code",
   "execution_count": 26,
   "id": "73cfa08c",
   "metadata": {},
   "outputs": [
    {
     "name": "stdout",
     "output_type": "stream",
     "text": [
      "30716 questions was asked in 2019\n",
      "\n",
      "CPU times: user 537 ms, sys: 177 ms, total: 714 ms\n",
      "Wall time: 828 ms\n"
     ]
    },
    {
     "data": {
      "text/html": [
       "<div>\n",
       "<style scoped>\n",
       "    .dataframe tbody tr th:only-of-type {\n",
       "        vertical-align: middle;\n",
       "    }\n",
       "\n",
       "    .dataframe tbody tr th {\n",
       "        vertical-align: top;\n",
       "    }\n",
       "\n",
       "    .dataframe thead th {\n",
       "        text-align: right;\n",
       "    }\n",
       "</style>\n",
       "<table border=\"1\" class=\"dataframe\">\n",
       "  <thead>\n",
       "    <tr style=\"text-align: right;\">\n",
       "      <th></th>\n",
       "      <th>simplicity</th>\n",
       "    </tr>\n",
       "  </thead>\n",
       "  <tbody>\n",
       "    <tr>\n",
       "      <th>2386000</th>\n",
       "      <td>0.883117</td>\n",
       "    </tr>\n",
       "    <tr>\n",
       "      <th>2386001</th>\n",
       "      <td>0.779221</td>\n",
       "    </tr>\n",
       "    <tr>\n",
       "      <th>2386002</th>\n",
       "      <td>0.445887</td>\n",
       "    </tr>\n",
       "    <tr>\n",
       "      <th>2386003</th>\n",
       "      <td>0.519481</td>\n",
       "    </tr>\n",
       "    <tr>\n",
       "      <th>2386004</th>\n",
       "      <td>0.878788</td>\n",
       "    </tr>\n",
       "  </tbody>\n",
       "</table>\n",
       "</div>"
      ],
      "text/plain": [
       "         simplicity\n",
       "2386000    0.883117\n",
       "2386001    0.779221\n",
       "2386002    0.445887\n",
       "2386003    0.519481\n",
       "2386004    0.878788"
      ]
     },
     "execution_count": 26,
     "metadata": {},
     "output_type": "execute_result"
    }
   ],
   "source": [
    "%%time\n",
    "Q_simp_train_df = get_q_simplicity(R_train)\n",
    "n_questions_train = len(Q_simp_train_df)\n",
    "assert Q_simp_train_df.index.nunique() == n_questions_train\n",
    "\n",
    "print(f\"{n_questions_train} questions was asked in {TRAIN_START_YEAR}\", end='\\n\\n')\n",
    "Q_simp_train_df.head()"
   ]
  },
  {
   "cell_type": "code",
   "execution_count": 27,
   "id": "98bd458b",
   "metadata": {},
   "outputs": [
    {
     "data": {
      "text/plain": [
       "count     660.000000\n",
       "mean      118.750000\n",
       "std       180.086085\n",
       "min         1.000000\n",
       "25%        23.000000\n",
       "50%        49.500000\n",
       "75%       134.250000\n",
       "max      1218.000000\n",
       "dtype: float64"
      ]
     },
     "execution_count": 27,
     "metadata": {},
     "output_type": "execute_result"
    }
   ],
   "source": [
    "# distribution of the number of teams taking part in a turnament\n",
    "R_train_df.applymap(lambda x: 0 if x is None else 1).sum(axis=1).describe()"
   ]
  },
  {
   "cell_type": "markdown",
   "id": "daf93ced",
   "metadata": {},
   "source": [
    "Составим `DataFrame`, где в каждой строчке будут сопоставлены игрок, его команда, вопрос, на который он отвечал, сложность вопроса и результат ответа на этот вопрос."
   ]
  },
  {
   "cell_type": "code",
   "execution_count": 28,
   "id": "34968ec0",
   "metadata": {},
   "outputs": [],
   "source": [
    "NUM_TEAMS_MAX = 1218  # the maximal number of teams taking part in a tournament"
   ]
  },
  {
   "cell_type": "code",
   "execution_count": 29,
   "id": "5a2aa282",
   "metadata": {},
   "outputs": [],
   "source": [
    "def get_new_team_id(tournament_id: int, team_id: int):\n",
    "    return tournament_id * NUM_TEAMS_MAX + team_id"
   ]
  },
  {
   "cell_type": "code",
   "execution_count": 30,
   "id": "8d4f594f",
   "metadata": {},
   "outputs": [],
   "source": [
    "def player_vs_questions(results, questions_df):\n",
    "    '''\n",
    "    Group info about players and questions they answered\n",
    "    Return:\n",
    "        DataFrame (\"player_id\": int; \"team_id\": int; q_id\": int; \"simlicity\": float; \"answer\": 0 or 1)\n",
    "    '''\n",
    "    dict_df = {\"p_id\": [],  \"t_id\": [], \"q_id\": [], \"simplicity\": [], \"answer\": []}\n",
    "    prev_team_members = {}  # to check if the team line-up change\n",
    "    prev_team_id = {}  # dict of team id: original_id -> our new id\n",
    "    \n",
    "    for tour_id, result in tqdm(results.items()):  # , position=0, leave=True\n",
    "        for team in result:\n",
    "            team_id_0 =  team[\"team\"][\"id\"]  # team id\n",
    "            team_new_id = get_new_team_id(tour_id, team_id_0)\n",
    "\n",
    "            for ind, ans in enumerate(team[\"mask\"]):\n",
    "                q_id = get_q_id(tour_id, ind) # \n",
    "                simplicity = questions_df[\"simplicity\"][q_id]  # the question simplicity from df\n",
    "                \n",
    "                # question wasn't answered\n",
    "                if ans != \"1\" and ans != \"0\":  # \"X\" or \"?\"\n",
    "                    continue\n",
    "                         \n",
    "                # all members of a team answered a question if a team ansvered\n",
    "                team_players = []\n",
    "                for player in team[\"teamMembers\"]:\n",
    "                    player_id = player[\"player\"][\"id\"]\n",
    "                    team_players.append(player_id)\n",
    "                    dict_df[\"p_id\"].append(player_id)  # add player id\n",
    "                    dict_df[\"q_id\"].append(q_id)  # add question id\n",
    "                    dict_df[\"simplicity\"].append(simplicity)\n",
    "                    dict_df[\"answer\"].append(int(ans))\n",
    "\n",
    "                # check if team line up changed\n",
    "                if key_not_in_dict(team_id_0, prev_team_members):\n",
    "                    prev_team_members[team_id_0] = set(team_players)\n",
    "                    prev_team_id[team_id_0] = team_new_id\n",
    "                else:\n",
    "                    if prev_team_members[team_id_0] == set(team_players):\n",
    "                        team_new_id = prev_team_id[team_id_0]\n",
    "                    else:  # line-up changed\n",
    "                        prev_team_members[team_id_0] = set(team_players)  # update team line-up\n",
    "                        prev_team_id[team_id_0] = team_new_id  # NEW team - new id\n",
    "                dict_df[\"t_id\"].extend([team_new_id for _ in range(len(team_players))])  # add team id's\n",
    "                \n",
    "    return pd.DataFrame(dict_df)"
   ]
  },
  {
   "cell_type": "code",
   "execution_count": 31,
   "id": "d647477d",
   "metadata": {},
   "outputs": [
    {
     "name": "stderr",
     "output_type": "stream",
     "text": [
      "100%|█████████████████████████████████████████| 660/660 [00:23<00:00, 28.07it/s]\n"
     ]
    },
    {
     "name": "stdout",
     "output_type": "stream",
     "text": [
      "CPU times: user 36.2 s, sys: 3.59 s, total: 39.8 s\n",
      "Wall time: 42 s\n"
     ]
    }
   ],
   "source": [
    "%%time\n",
    "P_vs_Q_train_df = player_vs_questions(R_train, Q_simp_train_df)"
   ]
  },
  {
   "cell_type": "code",
   "execution_count": 32,
   "id": "c8919403",
   "metadata": {},
   "outputs": [
    {
     "name": "stdout",
     "output_type": "stream",
     "text": [
      "DF shape: (16119246, 5)\n",
      "\n",
      "Statistics for 2019 year:\n",
      "70187 teams with different line-ups registered\n",
      "56865 players played\n",
      "30636 questions asked\n"
     ]
    },
    {
     "data": {
      "text/html": [
       "<div>\n",
       "<style scoped>\n",
       "    .dataframe tbody tr th:only-of-type {\n",
       "        vertical-align: middle;\n",
       "    }\n",
       "\n",
       "    .dataframe tbody tr th {\n",
       "        vertical-align: top;\n",
       "    }\n",
       "\n",
       "    .dataframe thead th {\n",
       "        text-align: right;\n",
       "    }\n",
       "</style>\n",
       "<table border=\"1\" class=\"dataframe\">\n",
       "  <thead>\n",
       "    <tr style=\"text-align: right;\">\n",
       "      <th></th>\n",
       "      <th>p_id</th>\n",
       "      <th>t_id</th>\n",
       "      <th>q_id</th>\n",
       "      <th>simplicity</th>\n",
       "      <th>answer</th>\n",
       "    </tr>\n",
       "  </thead>\n",
       "  <tbody>\n",
       "    <tr>\n",
       "      <th>0</th>\n",
       "      <td>6212</td>\n",
       "      <td>5857852</td>\n",
       "      <td>2386000</td>\n",
       "      <td>0.883117</td>\n",
       "      <td>1</td>\n",
       "    </tr>\n",
       "    <tr>\n",
       "      <th>1</th>\n",
       "      <td>18332</td>\n",
       "      <td>5857852</td>\n",
       "      <td>2386000</td>\n",
       "      <td>0.883117</td>\n",
       "      <td>1</td>\n",
       "    </tr>\n",
       "    <tr>\n",
       "      <th>2</th>\n",
       "      <td>18036</td>\n",
       "      <td>5857852</td>\n",
       "      <td>2386000</td>\n",
       "      <td>0.883117</td>\n",
       "      <td>1</td>\n",
       "    </tr>\n",
       "    <tr>\n",
       "      <th>3</th>\n",
       "      <td>22799</td>\n",
       "      <td>5857852</td>\n",
       "      <td>2386000</td>\n",
       "      <td>0.883117</td>\n",
       "      <td>1</td>\n",
       "    </tr>\n",
       "    <tr>\n",
       "      <th>4</th>\n",
       "      <td>15456</td>\n",
       "      <td>5857852</td>\n",
       "      <td>2386000</td>\n",
       "      <td>0.883117</td>\n",
       "      <td>1</td>\n",
       "    </tr>\n",
       "  </tbody>\n",
       "</table>\n",
       "</div>"
      ],
      "text/plain": [
       "    p_id     t_id     q_id  simplicity  answer\n",
       "0   6212  5857852  2386000    0.883117       1\n",
       "1  18332  5857852  2386000    0.883117       1\n",
       "2  18036  5857852  2386000    0.883117       1\n",
       "3  22799  5857852  2386000    0.883117       1\n",
       "4  15456  5857852  2386000    0.883117       1"
      ]
     },
     "execution_count": 32,
     "metadata": {},
     "output_type": "execute_result"
    }
   ],
   "source": [
    "print(f\"DF shape: {P_vs_Q_train_df.shape}\", end='\\n\\n')\n",
    "\n",
    "print(f\"Statistics for {TRAIN_START_YEAR} year:\")\n",
    "print(f\"{P_vs_Q_train_df.t_id.nunique()} teams with different line-ups registered\")\n",
    "print(f\"{P_vs_Q_train_df.p_id.nunique()} players played\")\n",
    "print(f\"{P_vs_Q_train_df.q_id.nunique()} questions asked\")\n",
    "P_vs_Q_train_df.head()"
   ]
  },
  {
   "cell_type": "markdown",
   "id": "844c0c04",
   "metadata": {},
   "source": [
    "По имеющимся к данному моменту результатам можем _посчитать_ $p(\\text{siplicity})$:"
   ]
  },
  {
   "cell_type": "code",
   "execution_count": 33,
   "id": "edfbab1d",
   "metadata": {},
   "outputs": [],
   "source": [
    "def simplicity_distribution(simplicity, discretization=100):\n",
    "    samples_number = len(simplicity)\n",
    "    hist, edges = np.histogram(simplicity,\n",
    "                               bins=discretization,\n",
    "                               range=(0, 1),\n",
    "                               density=True)\n",
    "    return np.array(hist), np.array(edges)"
   ]
  },
  {
   "cell_type": "code",
   "execution_count": 37,
   "id": "616f0d60",
   "metadata": {},
   "outputs": [],
   "source": [
    "SIMPL_DENS_HIST, HIST_EDGES = simplicity_distribution(Q_simp_train_df[\"simplicity\"].values,\n",
    "                                                     discretization=150)\n",
    "BIN_SIZE = HIST_EDGES[1] - HIST_EDGES[0]\n",
    "HIST_CENTERS = HIST_EDGES[:-1] + BIN_SIZE / 2\n",
    "\n",
    "# check the integral of the density\n",
    "int_pnts = [0]\n",
    "p_int = 0\n",
    "for p in SIMPL_DENS_HIST:\n",
    "    p_int += BIN_SIZE * p\n",
    "    int_pnts.append(p_int)\n",
    "\n",
    "assert np.isclose(p_int, 1)  # integral of a dencity = 1"
   ]
  },
  {
   "cell_type": "code",
   "execution_count": 38,
   "id": "77a3b7bb",
   "metadata": {},
   "outputs": [],
   "source": [
    "def get_density_value(simplicity):\n",
    "    return SIMPL_DENS_HIST[np.where(HIST_EDGES <= simplicity)[0][-1]]"
   ]
  },
  {
   "cell_type": "code",
   "execution_count": 39,
   "id": "1aa46fde",
   "metadata": {},
   "outputs": [
    {
     "data": {
      "image/png": "[encoded data removed]",
      "text/plain": [
       "<Figure size 500x300 with 1 Axes>"
      ]
     },
     "metadata": {
      "image/png": {
       "height": 292,
       "width": 445
      }
     },
     "output_type": "display_data"
    }
   ],
   "source": [
    "plt.figure(figsize=(5, 3))\n",
    "plt.plot(HIST_EDGES, int_pnts, lw=1, label=\"$P(\\mathbf{s}<x)=\\int_0^s p(s')ds'$\")\n",
    "plt.plot(HIST_CENTERS, SIMPL_DENS_HIST,\n",
    "         lw=1.5, label=\"$p(\\mathbf{s})$\")\n",
    "plt.xlabel(\"$simplicity$\")\n",
    "plt.ylabel(\"$p(simplicity)$\")\n",
    "plt.legend();"
   ]
  },
  {
   "cell_type": "markdown",
   "id": "36117eaa",
   "metadata": {},
   "source": [
    "**Интересно**, что выделяются (по кол-ву) вопросы, на которые ответили все, на которые никто не ответил и с которыми справилась только половина команд (внутри каждого турнира)!"
   ]
  },
  {
   "cell_type": "markdown",
   "id": "6d130de5",
   "metadata": {},
   "source": [
    "Начем же уже предсказывать рейтинги игроков!"
   ]
  },
  {
   "cell_type": "code",
   "execution_count": 40,
   "id": "a2822e6d",
   "metadata": {},
   "outputs": [],
   "source": [
    "def player_rank(model):\n",
    "    # predictions = p(answer|simplicity)\n",
    "    predictions = model.predict_proba(HIST_CENTERS.reshape(-1, 1))[:, 1]\n",
    "    return (predictions * SIMPL_DENS_HIST).sum() * BIN_SIZE  # integrate"
   ]
  },
  {
   "cell_type": "markdown",
   "id": "1e922d92",
   "metadata": {},
   "source": [
    "Если топ уже вычислялся, то переходим к **>>**"
   ]
  },
  {
   "cell_type": "code",
   "execution_count": 41,
   "id": "52ebb09a",
   "metadata": {},
   "outputs": [
    {
     "name": "stderr",
     "output_type": "stream",
     "text": [
      "100%|████████████████████████████████████| 56865/56865 [06:50<00:00, 138.52it/s]"
     ]
    },
    {
     "name": "stdout",
     "output_type": "stream",
     "text": [
      "CPU times: user 23min 39s, sys: 22.6 s, total: 24min 1s\n",
      "Wall time: 6min 50s\n"
     ]
    },
    {
     "name": "stderr",
     "output_type": "stream",
     "text": [
      "\n"
     ]
    }
   ],
   "source": [
    "%%time\n",
    "players_ranked = {\"p_id\": [], \"rank\": [], \"answered\": []}\n",
    "\n",
    "for player_id in tqdm(P_vs_Q_train_df[\"p_id\"].unique()):  # go through all unique players\n",
    "    players_ranked[\"p_id\"].append(player_id)\n",
    "    \n",
    "    player_stats = P_vs_Q_train_df[P_vs_Q_train_df[\"p_id\"] == player_id]  # player questions and answers\n",
    "    player_answers = player_stats[\"answer\"].values\n",
    "    \n",
    "    players_ranked[\"answered\"].append(len(player_answers))\n",
    "    \n",
    "    if player_answers.sum() == 0:\n",
    "        players_ranked[\"rank\"].append(0)\n",
    "    else:\n",
    "        # get simplicity of each question answered (or not) by the player with player_id\n",
    "        player_q_simplicity = player_stats[\"simplicity\"].values.reshape(-1, 1)\n",
    "        logreg = LogisticRegression()\n",
    "        # from questions simlicity predicting answers (0 or 1)\n",
    "        logreg.fit(player_q_simplicity, player_answers)\n",
    "        # calculate player rank!\n",
    "        players_ranked[\"rank\"].append(player_rank(logreg))"
   ]
  },
  {
   "cell_type": "code",
   "execution_count": 42,
   "id": "fd52c90f",
   "metadata": {},
   "outputs": [
    {
     "data": {
      "text/html": [
       "<div>\n",
       "<style scoped>\n",
       "    .dataframe tbody tr th:only-of-type {\n",
       "        vertical-align: middle;\n",
       "    }\n",
       "\n",
       "    .dataframe tbody tr th {\n",
       "        vertical-align: top;\n",
       "    }\n",
       "\n",
       "    .dataframe thead th {\n",
       "        text-align: right;\n",
       "    }\n",
       "</style>\n",
       "<table border=\"1\" class=\"dataframe\">\n",
       "  <thead>\n",
       "    <tr style=\"text-align: right;\">\n",
       "      <th></th>\n",
       "      <th>answered</th>\n",
       "      <th>rank</th>\n",
       "    </tr>\n",
       "  </thead>\n",
       "  <tbody>\n",
       "    <tr>\n",
       "      <th>6212</th>\n",
       "      <td>3306</td>\n",
       "      <td>0.695856</td>\n",
       "    </tr>\n",
       "    <tr>\n",
       "      <th>18332</th>\n",
       "      <td>3751</td>\n",
       "      <td>0.712763</td>\n",
       "    </tr>\n",
       "    <tr>\n",
       "      <th>18036</th>\n",
       "      <td>1457</td>\n",
       "      <td>0.709691</td>\n",
       "    </tr>\n",
       "    <tr>\n",
       "      <th>22799</th>\n",
       "      <td>2219</td>\n",
       "      <td>0.689353</td>\n",
       "    </tr>\n",
       "    <tr>\n",
       "      <th>15456</th>\n",
       "      <td>2322</td>\n",
       "      <td>0.669563</td>\n",
       "    </tr>\n",
       "  </tbody>\n",
       "</table>\n",
       "</div>"
      ],
      "text/plain": [
       "       answered      rank\n",
       "6212       3306  0.695856\n",
       "18332      3751  0.712763\n",
       "18036      1457  0.709691\n",
       "22799      2219  0.689353\n",
       "15456      2322  0.669563"
      ]
     },
     "execution_count": 42,
     "metadata": {},
     "output_type": "execute_result"
    }
   ],
   "source": [
    "# result\n",
    "P_ranked_df = pd.DataFrame({\"answered\": players_ranked[\"answered\"], \"rank\": players_ranked[\"rank\"]},\n",
    "                                 index=players_ranked[\"p_id\"])\n",
    "P_ranked_df.head()"
   ]
  },
  {
   "cell_type": "code",
   "execution_count": 43,
   "id": "08692d7a",
   "metadata": {},
   "outputs": [],
   "source": [
    "# saving results\n",
    "players_ranked_path = \"data/players_ranked.csv\"\n",
    "P_ranked_df.to_csv(players_ranked_path, index=True)"
   ]
  },
  {
   "cell_type": "code",
   "execution_count": 44,
   "id": "1f85e1ce",
   "metadata": {},
   "outputs": [
    {
     "data": {
      "text/plain": [
       "24625"
      ]
     },
     "execution_count": 44,
     "metadata": {},
     "output_type": "execute_result"
    }
   ],
   "source": [
    "gc.collect()"
   ]
  },
  {
   "cell_type": "markdown",
   "id": "81f096a9",
   "metadata": {},
   "source": [
    "### >> Уже посчитанный топ"
   ]
  },
  {
   "cell_type": "code",
   "execution_count": 45,
   "id": "4d9c7505",
   "metadata": {},
   "outputs": [],
   "source": [
    "players_ranked_path = \"data/players_ranked.csv\"\n",
    "P_ranked_df = pd.read_csv(players_ranked_path, index_col=[0])"
   ]
  },
  {
   "cell_type": "markdown",
   "id": "7c626e40",
   "metadata": {},
   "source": [
    "### Топ игроков"
   ]
  },
  {
   "cell_type": "code",
   "execution_count": 46,
   "id": "254d6df5",
   "metadata": {
    "scrolled": true
   },
   "outputs": [
    {
     "data": {
      "text/html": [
       "<div>\n",
       "<style scoped>\n",
       "    .dataframe tbody tr th:only-of-type {\n",
       "        vertical-align: middle;\n",
       "    }\n",
       "\n",
       "    .dataframe tbody tr th {\n",
       "        vertical-align: top;\n",
       "    }\n",
       "\n",
       "    .dataframe thead th {\n",
       "        text-align: right;\n",
       "    }\n",
       "</style>\n",
       "<table border=\"1\" class=\"dataframe\">\n",
       "  <thead>\n",
       "    <tr style=\"text-align: right;\">\n",
       "      <th></th>\n",
       "      <th>id</th>\n",
       "      <th>name</th>\n",
       "      <th>patronymic</th>\n",
       "      <th>surname</th>\n",
       "      <th>answered</th>\n",
       "      <th>rank</th>\n",
       "    </tr>\n",
       "  </thead>\n",
       "  <tbody>\n",
       "    <tr>\n",
       "      <th>121433</th>\n",
       "      <td>121433</td>\n",
       "      <td>София</td>\n",
       "      <td>Романовна</td>\n",
       "      <td>Савенко</td>\n",
       "      <td>36</td>\n",
       "      <td>0.914342</td>\n",
       "    </tr>\n",
       "    <tr>\n",
       "      <th>186002</th>\n",
       "      <td>186002</td>\n",
       "      <td>Инга</td>\n",
       "      <td>Андрисовна</td>\n",
       "      <td>Лоренц</td>\n",
       "      <td>36</td>\n",
       "      <td>0.903864</td>\n",
       "    </tr>\n",
       "    <tr>\n",
       "      <th>202410</th>\n",
       "      <td>202410</td>\n",
       "      <td>Валентина</td>\n",
       "      <td></td>\n",
       "      <td>Подюкова</td>\n",
       "      <td>36</td>\n",
       "      <td>0.899327</td>\n",
       "    </tr>\n",
       "    <tr>\n",
       "      <th>216863</th>\n",
       "      <td>216863</td>\n",
       "      <td>Глеб</td>\n",
       "      <td>Юрьевич</td>\n",
       "      <td>Гаврилов</td>\n",
       "      <td>36</td>\n",
       "      <td>0.893846</td>\n",
       "    </tr>\n",
       "    <tr>\n",
       "      <th>133504</th>\n",
       "      <td>133504</td>\n",
       "      <td>София</td>\n",
       "      <td>Евгеньевна</td>\n",
       "      <td>Лебедева</td>\n",
       "      <td>36</td>\n",
       "      <td>0.893755</td>\n",
       "    </tr>\n",
       "    <tr>\n",
       "      <th>135951</th>\n",
       "      <td>135951</td>\n",
       "      <td>Артём</td>\n",
       "      <td>Феликсович</td>\n",
       "      <td>Стетой</td>\n",
       "      <td>36</td>\n",
       "      <td>0.893436</td>\n",
       "    </tr>\n",
       "    <tr>\n",
       "      <th>170977</th>\n",
       "      <td>170977</td>\n",
       "      <td>Давид</td>\n",
       "      <td>Сергеевич</td>\n",
       "      <td>Кан</td>\n",
       "      <td>36</td>\n",
       "      <td>0.891412</td>\n",
       "    </tr>\n",
       "    <tr>\n",
       "      <th>171845</th>\n",
       "      <td>171845</td>\n",
       "      <td>Михаил</td>\n",
       "      <td>Владимирович</td>\n",
       "      <td>Завьялов</td>\n",
       "      <td>36</td>\n",
       "      <td>0.891412</td>\n",
       "    </tr>\n",
       "    <tr>\n",
       "      <th>215497</th>\n",
       "      <td>215497</td>\n",
       "      <td>Екатерина</td>\n",
       "      <td></td>\n",
       "      <td>Горелова</td>\n",
       "      <td>36</td>\n",
       "      <td>0.881921</td>\n",
       "    </tr>\n",
       "    <tr>\n",
       "      <th>215496</th>\n",
       "      <td>215496</td>\n",
       "      <td>Наталья</td>\n",
       "      <td></td>\n",
       "      <td>Артемьева</td>\n",
       "      <td>36</td>\n",
       "      <td>0.881921</td>\n",
       "    </tr>\n",
       "  </tbody>\n",
       "</table>\n",
       "</div>"
      ],
      "text/plain": [
       "            id       name    patronymic    surname  answered      rank\n",
       "121433  121433      София     Романовна    Савенко        36  0.914342\n",
       "186002  186002       Инга    Андрисовна     Лоренц        36  0.903864\n",
       "202410  202410  Валентина                 Подюкова        36  0.899327\n",
       "216863  216863       Глеб       Юрьевич   Гаврилов        36  0.893846\n",
       "133504  133504      София    Евгеньевна   Лебедева        36  0.893755\n",
       "135951  135951      Артём    Феликсович     Стетой        36  0.893436\n",
       "170977  170977      Давид     Сергеевич        Кан        36  0.891412\n",
       "171845  171845     Михаил  Владимирович   Завьялов        36  0.891412\n",
       "215497  215497  Екатерина                 Горелова        36  0.881921\n",
       "215496  215496    Наталья                Артемьева        36  0.881921"
      ]
     },
     "execution_count": 46,
     "metadata": {},
     "output_type": "execute_result"
    }
   ],
   "source": [
    "names_ranked_df = P_train_df.join(P_ranked_df, how=\"left\")\n",
    "names_ranked_df.sort_values(by=\"rank\", ascending=False).head(10)"
   ]
  },
  {
   "cell_type": "markdown",
   "id": "4eea86a5",
   "metadata": {},
   "source": [
    "Топ возглавили игроки, которые сыграли очень мало вопросов! Это _не очень хороший_ топ.\n",
    "\n",
    "Ограничимся в нашем _правильном_ топе теми игроками, которые ответили на достаточное кол-во вопросов (например на 500 и более, что соответствует $>10$ играм):"
   ]
  },
  {
   "cell_type": "code",
   "execution_count": 47,
   "id": "57a54485",
   "metadata": {
    "scrolled": true
   },
   "outputs": [
    {
     "data": {
      "text/html": [
       "<div>\n",
       "<style scoped>\n",
       "    .dataframe tbody tr th:only-of-type {\n",
       "        vertical-align: middle;\n",
       "    }\n",
       "\n",
       "    .dataframe tbody tr th {\n",
       "        vertical-align: top;\n",
       "    }\n",
       "\n",
       "    .dataframe thead th {\n",
       "        text-align: right;\n",
       "    }\n",
       "</style>\n",
       "<table border=\"1\" class=\"dataframe\">\n",
       "  <thead>\n",
       "    <tr style=\"text-align: right;\">\n",
       "      <th></th>\n",
       "      <th>id</th>\n",
       "      <th>name</th>\n",
       "      <th>patronymic</th>\n",
       "      <th>surname</th>\n",
       "      <th>answered</th>\n",
       "      <th>rank</th>\n",
       "    </tr>\n",
       "  </thead>\n",
       "  <tbody>\n",
       "    <tr>\n",
       "      <th>27403</th>\n",
       "      <td>27403</td>\n",
       "      <td>Максим</td>\n",
       "      <td>Михайлович</td>\n",
       "      <td>Руссо</td>\n",
       "      <td>2178</td>\n",
       "      <td>0.782318</td>\n",
       "    </tr>\n",
       "    <tr>\n",
       "      <th>4270</th>\n",
       "      <td>4270</td>\n",
       "      <td>Александра</td>\n",
       "      <td>Владимировна</td>\n",
       "      <td>Брутер</td>\n",
       "      <td>2692</td>\n",
       "      <td>0.775227</td>\n",
       "    </tr>\n",
       "    <tr>\n",
       "      <th>28751</th>\n",
       "      <td>28751</td>\n",
       "      <td>Иван</td>\n",
       "      <td>Николаевич</td>\n",
       "      <td>Семушин</td>\n",
       "      <td>3774</td>\n",
       "      <td>0.772662</td>\n",
       "    </tr>\n",
       "    <tr>\n",
       "      <th>27822</th>\n",
       "      <td>27822</td>\n",
       "      <td>Михаил</td>\n",
       "      <td>Владимирович</td>\n",
       "      <td>Савченков</td>\n",
       "      <td>3215</td>\n",
       "      <td>0.761132</td>\n",
       "    </tr>\n",
       "    <tr>\n",
       "      <th>30152</th>\n",
       "      <td>30152</td>\n",
       "      <td>Артём</td>\n",
       "      <td>Сергеевич</td>\n",
       "      <td>Сорожкин</td>\n",
       "      <td>4849</td>\n",
       "      <td>0.750640</td>\n",
       "    </tr>\n",
       "    <tr>\n",
       "      <th>30270</th>\n",
       "      <td>30270</td>\n",
       "      <td>Сергей</td>\n",
       "      <td>Леонидович</td>\n",
       "      <td>Спешков</td>\n",
       "      <td>3737</td>\n",
       "      <td>0.747716</td>\n",
       "    </tr>\n",
       "    <tr>\n",
       "      <th>87637</th>\n",
       "      <td>87637</td>\n",
       "      <td>Антон</td>\n",
       "      <td>Владимирович</td>\n",
       "      <td>Саксонов</td>\n",
       "      <td>1194</td>\n",
       "      <td>0.733565</td>\n",
       "    </tr>\n",
       "    <tr>\n",
       "      <th>4226</th>\n",
       "      <td>4226</td>\n",
       "      <td>Сусанна</td>\n",
       "      <td>Марковна</td>\n",
       "      <td>Бровер</td>\n",
       "      <td>600</td>\n",
       "      <td>0.720282</td>\n",
       "    </tr>\n",
       "    <tr>\n",
       "      <th>20691</th>\n",
       "      <td>20691</td>\n",
       "      <td>Станислав</td>\n",
       "      <td>Григорьевич</td>\n",
       "      <td>Мереминский</td>\n",
       "      <td>1584</td>\n",
       "      <td>0.718392</td>\n",
       "    </tr>\n",
       "    <tr>\n",
       "      <th>56647</th>\n",
       "      <td>56647</td>\n",
       "      <td>Наталья</td>\n",
       "      <td>Евгеньевна</td>\n",
       "      <td>Горелова</td>\n",
       "      <td>2093</td>\n",
       "      <td>0.716340</td>\n",
       "    </tr>\n",
       "  </tbody>\n",
       "</table>\n",
       "</div>"
      ],
      "text/plain": [
       "          id        name    patronymic      surname  answered      rank\n",
       "27403  27403      Максим    Михайлович        Руссо      2178  0.782318\n",
       "4270    4270  Александра  Владимировна       Брутер      2692  0.775227\n",
       "28751  28751        Иван    Николаевич      Семушин      3774  0.772662\n",
       "27822  27822      Михаил  Владимирович    Савченков      3215  0.761132\n",
       "30152  30152       Артём     Сергеевич     Сорожкин      4849  0.750640\n",
       "30270  30270      Сергей    Леонидович      Спешков      3737  0.747716\n",
       "87637  87637       Антон  Владимирович     Саксонов      1194  0.733565\n",
       "4226    4226     Сусанна      Марковна       Бровер       600  0.720282\n",
       "20691  20691   Станислав   Григорьевич  Мереминский      1584  0.718392\n",
       "56647  56647     Наталья    Евгеньевна     Горелова      2093  0.716340"
      ]
     },
     "execution_count": 47,
     "metadata": {},
     "output_type": "execute_result"
    }
   ],
   "source": [
    "names_ranked_df.loc[names_ranked_df[\"answered\"] >= 500].sort_values(by=\"rank\", ascending=False).head(10)"
   ]
  },
  {
   "cell_type": "markdown",
   "id": "405671f3",
   "metadata": {},
   "source": [
    "### Часть 3.\n",
    "\n",
    "Качество рейтинг-системы оценивается качеством предсказаний результатов турниров. Но сами повопросные результаты наши модели предсказывать вряд ли смогут, ведь неизвестно, насколько сложными окажутся вопросы в будущих турнирах; да и не нужны эти предсказания сами по себе. Поэтому:\n",
    "- предложите способ предсказать результаты нового турнира с известными составами, но неизвестными вопросами, в виде ранжирования команд;\n",
    "- в качестве метрики качества на тестовом наборе давайте считать ранговые корреляции Спирмена и Кендалла (их можно взять в пакете scipy) между реальным ранжированием в результатах турнира и предсказанным моделью, усреднённые по тестовому множеству турниров$^1$.\n",
    "\n",
    "$^1$_**Для самопроверки**: у меня средняя корреляция Спирмена на тестовом множестве 2020 года во всех моделях, включая baselines, получалась порядка 0.7-0.8, а корреляция Кендалла — порядка 0.5-0.6. Если у вас корреляции вышли за 0.9 или, наоборот, упали ниже 0.3, скорее всего где-то баг._\n",
    "\n",
    "Мы научились считать вероятность того, что игрок ответит на произвольный вопрос. Для оценки рейтинга команды напрашивается следующая величина: вероятность того, что хотя бы один член команды даст ответ на произвольный вопрос, т.е.\n",
    "$$P(\\text{team answers})=1-\\prod_{\\text{player}\\in\\text{team}} (1-P(\\text{player answers}))$$"
   ]
  },
  {
   "cell_type": "code",
   "execution_count": 48,
   "id": "cc3fe874",
   "metadata": {},
   "outputs": [],
   "source": [
    "def eval_spearman_and_kendall(results, players_ranked_df):\n",
    "\n",
    "    spearman = 0\n",
    "    kendall = 0\n",
    "    counted_results = 0\n",
    "    \n",
    "    # predicting teams ranks\n",
    "    for result in tqdm(results.values()):\n",
    "        ranks = []  # for teams ranking\n",
    "        for team in result:\n",
    "            team_place = int(team[\"position\"])\n",
    "            team_rank = 1\n",
    "            for player in team[\"teamMembers\"]:\n",
    "                player_id = player[\"player\"][\"id\"]\n",
    "                if player_id in players_ranked_df.index:\n",
    "                    team_rank *= 1 - players_ranked_df[\"rank\"][player_id]\n",
    "            team_rank = 1 - team_rank\n",
    "            ranks.append((team_rank, team_place))\n",
    "        \n",
    "        ranks.sort()  # sort by ranks\n",
    "\n",
    "        actual = np.array(list(zip(*ranks))[1])  # places from data\n",
    "        preds = np.arange(len(result) + 1, 1, -1)  # places predicted by teams ranks\n",
    "        \n",
    "        spearman_i = stats.spearmanr(actual, preds)[0]\n",
    "        kendall_i = stats.kendalltau(actual, preds)[0]\n",
    "        if not np.isnan(spearman_i) and not np.isnan(kendall_i):\n",
    "            spearman += spearman_i\n",
    "            kendall += kendall_i\n",
    "            counted_results += 1\n",
    "        \n",
    "    # return average metrics\n",
    "    return spearman / counted_results, kendall / counted_results"
   ]
  },
  {
   "cell_type": "code",
   "execution_count": 50,
   "id": "a4af7a26",
   "metadata": {},
   "outputs": [
    {
     "name": "stderr",
     "output_type": "stream",
     "text": [
      "100%|████████████████████████████████████████| 660/660 [00:02<00:00, 231.57it/s]"
     ]
    },
    {
     "name": "stdout",
     "output_type": "stream",
     "text": [
      "Spearman: 0.7743781913470459\n",
      "Kendall: 0.6183006734906765\n",
      "\n",
      "CPU times: user 2.52 s, sys: 237 ms, total: 2.76 s\n",
      "Wall time: 2.85 s\n"
     ]
    },
    {
     "name": "stderr",
     "output_type": "stream",
     "text": [
      "\n"
     ]
    }
   ],
   "source": [
    "%%time\n",
    "spearman_test, kendall_test = eval_spearman_and_kendall(R_test, P_ranked_df)\n",
    "print(f\"Spearman: {spearman_test}\\nKendall: {kendall_test}\", end='\\n\\n')"
   ]
  },
  {
   "cell_type": "markdown",
   "id": "37a26e68",
   "metadata": {},
   "source": [
    "### Часть 4.\n",
    "\n",
    "Теперь главное: ЧГК — это всё-таки командная игра. Поэтому:\n",
    "- предложите способ учитывать то, что на вопрос отвечают сразу несколько игроков; скорее всего, понадобятся скрытые переменные; не стесняйтесь делать упрощающие предположения, но теперь переменные \"игрок X ответил на вопрос Y\" при условии данных должны стать зависимыми для игроков одной и той же команды;\n",
    "- разработайте EM-схему для обучения этой модели, реализуйте её в коде;\n",
    "- обучите несколько итераций, убедитесь, что целевые метрики со временем растут (скорее всего, ненамного, но расти должны), выберите лучшую модель, используя целевые метрики."
   ]
  },
  {
   "cell_type": "markdown",
   "id": "de1ec656",
   "metadata": {},
   "source": [
    "Данные $i^\\text{го}$ турнира представляем в виде матрицы $\\mathcal{D}^{(i)}\\in\\mathbb{Z}^{(N_\\text{team}\\times M_\\text{questions})}$, заполненная $0$ и $1$ в зависимости от того ответила команда на соответствующий вопрос или нет."
   ]
  },
  {
   "cell_type": "markdown",
   "id": "b0d4885b",
   "metadata": {},
   "source": [
    "Скрытые переменные для каждого ответа каждой команды - вектор ответов на вопрос каждого участника команды. Т.е. каждой команде $k\\in\\{1..N_\\text{team}\\}$ (строке) из матрицы $\\mathcal{D}^{(i)}$ соответствует матрица скрытых переменных $\\mathcal{Z}^{(k)}\\in\\mathbb{Z}^{(n_k\\times M_\\text{questions})}$ из нулей $0$ и единиц $1$, где $n_k$ - кол-во участников $k^\\text{ой}$ команды.\n",
    "\n",
    "Всё, что мы знаем о скрытых переменных – это то, что если $k^\\text{ая}$ команда не ответила на вопрос, то в соответствующем столбце матрицы $\\mathcal{Z}^{(k)}$ все нули, а если ответила – то как минимум один игрок ответил на вопрос!\n",
    "\n",
    "Правдоподобие наблюдаемых, где параметры логистической регрессии для каждого игрока $\\vec\\theta_\\text{player}$ (предсказание ответа на вопрос $\\text{question}$):\n",
    "$$\n",
    "\\mathrm{p}(\\mathcal{D}, \\mathcal{Z} | \\Theta) = \\prod_\\text{tour} \\prod_\\text{team} \\prod_\\text{player}  \\prod_\\text{question}\n",
    "\\mathrm{P}(\\text{player} | \\text{question}, \\vec{\\theta}_\\text{player})^{\\mathcal{Z}^{(k)}_\\text{player,question}} \\cdot\n",
    "\\left[1 - \\mathrm{P}(\\text{player} | \\text{question}, \\vec{\\theta}_\\text{player})\\right]^{1 - \\mathcal{Z}^{(k)}_\\text{player,question}}\n",
    "$$"
   ]
  },
  {
   "cell_type": "code",
   "execution_count": 84,
   "id": "fb9ec92c",
   "metadata": {},
   "outputs": [
    {
     "data": {
      "text/html": [
       "<div>\n",
       "<style scoped>\n",
       "    .dataframe tbody tr th:only-of-type {\n",
       "        vertical-align: middle;\n",
       "    }\n",
       "\n",
       "    .dataframe tbody tr th {\n",
       "        vertical-align: top;\n",
       "    }\n",
       "\n",
       "    .dataframe thead th {\n",
       "        text-align: right;\n",
       "    }\n",
       "</style>\n",
       "<table border=\"1\" class=\"dataframe\">\n",
       "  <thead>\n",
       "    <tr style=\"text-align: right;\">\n",
       "      <th></th>\n",
       "      <th>p_id</th>\n",
       "      <th>t_id</th>\n",
       "      <th>q_id</th>\n",
       "      <th>simplicity</th>\n",
       "      <th>answer</th>\n",
       "      <th>p_answer</th>\n",
       "      <th>pred</th>\n",
       "    </tr>\n",
       "  </thead>\n",
       "  <tbody>\n",
       "    <tr>\n",
       "      <th>0</th>\n",
       "      <td>6212</td>\n",
       "      <td>5857852</td>\n",
       "      <td>2386000</td>\n",
       "      <td>0.883117</td>\n",
       "      <td>1</td>\n",
       "      <td>1.0</td>\n",
       "      <td>0.0</td>\n",
       "    </tr>\n",
       "    <tr>\n",
       "      <th>1</th>\n",
       "      <td>18332</td>\n",
       "      <td>5857852</td>\n",
       "      <td>2386000</td>\n",
       "      <td>0.883117</td>\n",
       "      <td>1</td>\n",
       "      <td>1.0</td>\n",
       "      <td>0.0</td>\n",
       "    </tr>\n",
       "    <tr>\n",
       "      <th>2</th>\n",
       "      <td>18036</td>\n",
       "      <td>5857852</td>\n",
       "      <td>2386000</td>\n",
       "      <td>0.883117</td>\n",
       "      <td>1</td>\n",
       "      <td>1.0</td>\n",
       "      <td>0.0</td>\n",
       "    </tr>\n",
       "    <tr>\n",
       "      <th>3</th>\n",
       "      <td>22799</td>\n",
       "      <td>5857852</td>\n",
       "      <td>2386000</td>\n",
       "      <td>0.883117</td>\n",
       "      <td>1</td>\n",
       "      <td>1.0</td>\n",
       "      <td>0.0</td>\n",
       "    </tr>\n",
       "    <tr>\n",
       "      <th>4</th>\n",
       "      <td>15456</td>\n",
       "      <td>5857852</td>\n",
       "      <td>2386000</td>\n",
       "      <td>0.883117</td>\n",
       "      <td>1</td>\n",
       "      <td>1.0</td>\n",
       "      <td>0.0</td>\n",
       "    </tr>\n",
       "    <tr>\n",
       "      <th>...</th>\n",
       "      <td>...</td>\n",
       "      <td>...</td>\n",
       "      <td>...</td>\n",
       "      <td>...</td>\n",
       "      <td>...</td>\n",
       "      <td>...</td>\n",
       "      <td>...</td>\n",
       "    </tr>\n",
       "    <tr>\n",
       "      <th>16119241</th>\n",
       "      <td>217855</td>\n",
       "      <td>7616939</td>\n",
       "      <td>3095535</td>\n",
       "      <td>0.227273</td>\n",
       "      <td>0</td>\n",
       "      <td>0.0</td>\n",
       "      <td>0.0</td>\n",
       "    </tr>\n",
       "    <tr>\n",
       "      <th>16119242</th>\n",
       "      <td>217856</td>\n",
       "      <td>7616939</td>\n",
       "      <td>3095535</td>\n",
       "      <td>0.227273</td>\n",
       "      <td>0</td>\n",
       "      <td>0.0</td>\n",
       "      <td>0.0</td>\n",
       "    </tr>\n",
       "    <tr>\n",
       "      <th>16119243</th>\n",
       "      <td>217857</td>\n",
       "      <td>7616939</td>\n",
       "      <td>3095535</td>\n",
       "      <td>0.227273</td>\n",
       "      <td>0</td>\n",
       "      <td>0.0</td>\n",
       "      <td>0.0</td>\n",
       "    </tr>\n",
       "    <tr>\n",
       "      <th>16119244</th>\n",
       "      <td>217858</td>\n",
       "      <td>7616939</td>\n",
       "      <td>3095535</td>\n",
       "      <td>0.227273</td>\n",
       "      <td>0</td>\n",
       "      <td>0.0</td>\n",
       "      <td>0.0</td>\n",
       "    </tr>\n",
       "    <tr>\n",
       "      <th>16119245</th>\n",
       "      <td>217859</td>\n",
       "      <td>7616939</td>\n",
       "      <td>3095535</td>\n",
       "      <td>0.227273</td>\n",
       "      <td>0</td>\n",
       "      <td>0.0</td>\n",
       "      <td>0.0</td>\n",
       "    </tr>\n",
       "  </tbody>\n",
       "</table>\n",
       "<p>16119246 rows × 7 columns</p>\n",
       "</div>"
      ],
      "text/plain": [
       "            p_id     t_id     q_id  simplicity  answer  p_answer  pred\n",
       "0           6212  5857852  2386000    0.883117       1       1.0   0.0\n",
       "1          18332  5857852  2386000    0.883117       1       1.0   0.0\n",
       "2          18036  5857852  2386000    0.883117       1       1.0   0.0\n",
       "3          22799  5857852  2386000    0.883117       1       1.0   0.0\n",
       "4          15456  5857852  2386000    0.883117       1       1.0   0.0\n",
       "...          ...      ...      ...         ...     ...       ...   ...\n",
       "16119241  217855  7616939  3095535    0.227273       0       0.0   0.0\n",
       "16119242  217856  7616939  3095535    0.227273       0       0.0   0.0\n",
       "16119243  217857  7616939  3095535    0.227273       0       0.0   0.0\n",
       "16119244  217858  7616939  3095535    0.227273       0       0.0   0.0\n",
       "16119245  217859  7616939  3095535    0.227273       0       0.0   0.0\n",
       "\n",
       "[16119246 rows x 7 columns]"
      ]
     },
     "execution_count": 84,
     "metadata": {},
     "output_type": "execute_result"
    }
   ],
   "source": [
    "P_vs_Q_train_em = P_vs_Q_train_df.copy()\n",
    "# add columts for player answers (initialized by team answers from the copied df) and for predictions\n",
    "P_vs_Q_train_em[\"p_answer\"] = P_vs_Q_train_em[\"answer\"].astype(\"float64\") \n",
    "P_vs_Q_train_em[\"pred\"] = 0.0\n",
    "\n",
    "# player_id, team_id, q_id, simplicity, answer, player_answer, pred\n",
    "P_vs_Q_train_em"
   ]
  },
  {
   "cell_type": "markdown",
   "id": "8feb988c",
   "metadata": {},
   "source": [
    "### Запуск EM\n",
    "\n",
    "По нашим данным сразу для всех участников обучим логистические регрессии для предсказания $\\mathrm{P}(\\text{player} | \\text{question}, \\vec\\theta_\\text{player})$"
   ]
  },
  {
   "cell_type": "code",
   "execution_count": 85,
   "id": "50b173d5",
   "metadata": {},
   "outputs": [],
   "source": [
    "p_models = {}\n",
    "for player_id in P_vs_Q_train_em[\"p_id\"].unique():\n",
    "    p_models[player_id] = LogisticRegression()"
   ]
  },
  {
   "cell_type": "markdown",
   "id": "444540fd",
   "metadata": {},
   "source": [
    "#### E-шаг \n",
    "\n",
    "Находим $\\mathbb{E}\\left[\\mathcal{Z}^{(k)}_\\text{player,question}\\right]$\n",
    "\n",
    "Если команда ответила на вопрос, $\\mathcal{D}^{(i)}_{\\text{team, question}}=1$: \n",
    "$$\n",
    "\\frac{\\mathrm{P}(\\text{player}|\\text{question},\\vec{\\theta}_{\\text{player}_j})}\n",
    "{1 - \\prod_{\\text{player}_j \\in \\text{team}_k}(1 -  \\mathrm{P}(\\text{player}_j|\\text{question},\\vec{\\theta}_{\\text{player}_j}))}\n",
    "$$\n",
    "\n",
    "Если команда не ответила на вопрос, $\\mathcal{D}^{(i)}_{\\text{team, question}}=0$: $$0$$"
   ]
  },
  {
   "cell_type": "markdown",
   "id": "29d47699",
   "metadata": {},
   "source": [
    "#### M-шаг\n",
    "\n",
    "Находим оптимальные параметры $\\vec\\theta_\\text{player}$, максимизируя матожидание логарифма правдоподобия\n",
    "\n",
    "$$\n",
    "\\mathbb{E} [\\log P(\\mathcal{D}, \\mathcal{Z} | \\Theta)] = \\sum_\\text{tour} \\sum_\\text{team} \\sum_\\text{player} \\sum_\\text{question}\n",
    "\\mathbb{E}\\left[\\mathcal{Z}^{(k)}_\\text{player,question}\\right] \\cdot \\log \\mathrm{P}(\\text{player} | \\text{question}, \\vec{\\theta}_\\text{player}) + \\\\\n",
    "+ \\sum_\\text{tour} \\sum_\\text{team} \\sum_\\text{player} \\sum_\\text{question}\n",
    "\\left(1 - \\mathbb{E}\\left[\\mathcal{Z}^{(k)}_\\text{player,question}\\right]\\right)\n",
    "\\cdot \\log{\\left(1 - \\mathrm{P}(\\text{player} | \\text{question}, \\vec{\\theta}_\\text{player})\\right)}\n",
    "$$"
   ]
  },
  {
   "cell_type": "code",
   "execution_count": 86,
   "id": "83c3c3da",
   "metadata": {},
   "outputs": [],
   "source": [
    "def prepare_data_for_logreg(X, y):\n",
    "    '''\n",
    "    Prepare data to use LogReg with samples weights\n",
    "    Arguments:\n",
    "        X - vector of questions simplicity for the player\n",
    "        y - vrctor of player answers\n",
    "    Return:\n",
    "        vectors of \n",
    "    '''\n",
    "    n_samples = y.shape[0]\n",
    "    X = np.array(X).reshape(-1, 1)\n",
    "    X_prepared = np.vstack([X, X])\n",
    "    y_prepared = np.hstack([np.ones(n_samples), np.zeros(n_samples)])\n",
    "    # for zero step:\n",
    "    # in first half only ANSWERED questions are taken into account, in second - NOT ANSWERED\n",
    "    weights = np.hstack([y, 1 - y])  # probability weights\n",
    "    return X_prepared, y_prepared, weights\n",
    "\n",
    "\n",
    "def m_step(P_vs_Q_df, players_models):\n",
    "    for player_id in tqdm(P_vs_Q_df[\"p_id\"].unique()):\n",
    "        player_stats = P_vs_Q_df[P_vs_Q_df[\"p_id\"] == player_id]  # all player questions and results\n",
    "        prep_samples, prep_target, prep_weights = prepare_data_for_logreg(X=player_stats[\"simplicity\"],\n",
    "                                                                          y=player_stats[\"p_answer\"])\n",
    "        players_models[player_id].fit(prep_samples, prep_target, prep_weights)"
   ]
  },
  {
   "cell_type": "code",
   "execution_count": 87,
   "id": "7a5ab6ca",
   "metadata": {},
   "outputs": [
    {
     "name": "stderr",
     "output_type": "stream",
     "text": [
      "100%|████████████████████████████████████| 56865/56865 [07:44<00:00, 122.51it/s]"
     ]
    },
    {
     "name": "stdout",
     "output_type": "stream",
     "text": [
      "CPU times: user 24min 17s, sys: 47.6 s, total: 25min 4s\n",
      "Wall time: 7min 44s\n"
     ]
    },
    {
     "name": "stderr",
     "output_type": "stream",
     "text": [
      "\n"
     ]
    }
   ],
   "source": [
    "%%time                                         \n",
    "# M-step №0\n",
    "m_step(P_vs_Q_train_em, p_models)"
   ]
  },
  {
   "cell_type": "code",
   "execution_count": 88,
   "id": "bd5b4ab9",
   "metadata": {},
   "outputs": [],
   "source": [
    "# save initialized models\n",
    "players_models_path_0 = \"data/models/players_models_0.pkl\"\n",
    "dump_pickle(p_models, players_models_path_0)"
   ]
  },
  {
   "cell_type": "code",
   "execution_count": 89,
   "id": "1579c3b0",
   "metadata": {},
   "outputs": [],
   "source": [
    "# if trained:\n",
    "p_models = load_pickle(players_models_path_0)"
   ]
  },
  {
   "cell_type": "code",
   "execution_count": 90,
   "id": "d7d0e7ce",
   "metadata": {},
   "outputs": [],
   "source": [
    "IND_P_ID = 0  # index of column with player id\n",
    "IND_SIMP = 3  # index of column with simplicity\n",
    "IND_TA = 4  # index of column with team answer\n",
    "IND_PRED = 6  # index of column with prediction"
   ]
  },
  {
   "cell_type": "code",
   "execution_count": 91,
   "id": "fe79a130",
   "metadata": {},
   "outputs": [],
   "source": [
    "def pred_update(P_vs_Q_df, players_models):\n",
    "    P_vs_Q_np = P_vs_Q_df.to_numpy()\n",
    "    # order: player_id, team_id, q_id, simplicity, answer, player_answer, pred\n",
    "    n_samples = P_vs_Q_np.shape[0]\n",
    "\n",
    "    for ind in tqdm(range(n_samples)):\n",
    "        team_answer = P_vs_Q_np[ind, IND_TA]\n",
    "        player_id = int(P_vs_Q_np[ind, IND_P_ID])\n",
    "        q_simp = P_vs_Q_np[ind, IND_SIMP].reshape(-1, 1)\n",
    "        if team_answer == 1:\n",
    "            pred = players_models[player_id].predict_proba(q_simp)[0][1]\n",
    "            P_vs_Q_np[ind, IND_PRED] = pred\n",
    "\n",
    "    P_vs_Q_df[\"pred\"] = P_vs_Q_np[:, IND_PRED]"
   ]
  },
  {
   "cell_type": "code",
   "execution_count": 92,
   "id": "93467aeb",
   "metadata": {},
   "outputs": [
    {
     "name": "stderr",
     "output_type": "stream",
     "text": [
      "100%|████████████████████████████| 16119246/16119246 [05:35<00:00, 47990.00it/s]\n"
     ]
    },
    {
     "name": "stdout",
     "output_type": "stream",
     "text": [
      "CPU times: user 5min 33s, sys: 21.7 s, total: 5min 55s\n",
      "Wall time: 5min 37s\n"
     ]
    }
   ],
   "source": [
    "%%time\n",
    "pred_update(P_vs_Q_train_em, p_models)"
   ]
  },
  {
   "cell_type": "code",
   "execution_count": 93,
   "id": "aa06a77f",
   "metadata": {},
   "outputs": [],
   "source": [
    "# saving results\n",
    "em_0_path = \"data/em/em_0.pkl\"\n",
    "dump_pickle(P_vs_Q_train_em, em_0_path)"
   ]
  },
  {
   "cell_type": "code",
   "execution_count": 94,
   "id": "42d3690e",
   "metadata": {},
   "outputs": [],
   "source": [
    "# if results are ready\n",
    "P_vs_Q_train_em = load_pickle(em_0_path)"
   ]
  },
  {
   "cell_type": "markdown",
   "id": "e915397f",
   "metadata": {},
   "source": [
    "Попробуем теперь снова отранжировать игроков по рангу и посмотреть на метрики:"
   ]
  },
  {
   "cell_type": "code",
   "execution_count": 95,
   "id": "1d6da225",
   "metadata": {},
   "outputs": [],
   "source": [
    "def get_density_value_em(simplicity, simpl_dens_hist, hist_edges):\n",
    "    return simpl_dens_hist[np.where(hist_edges <= simplicity)[0][-1]]\n",
    "\n",
    "\n",
    "def player_rank_em(model, simpl_dens_hist, bin_size, hist_centers):\n",
    "    # predictions = p(answer|simplicity)\n",
    "    predictions = model.predict_proba(hist_centers.reshape(-1, 1))[:, 1]\n",
    "    return (predictions * simpl_dens_hist).sum() * bin_size # integrate\n",
    "\n",
    "\n",
    "def players_ranking(P_vs_Q_df, players_models):\n",
    "    players_ranked = {\"p_id\": [], \"rank\": []}\n",
    "\n",
    "    # simplicity distribution\n",
    "    simpl = P_vs_Q_df.groupby(\"q_id\")[\"simplicity\"].first()\n",
    "    simpl_dens_hist, hist_edges = simplicity_distribution(simpl.values,\n",
    "                                                          discretization=150)\n",
    "    bin_size = hist_edges[1] - hist_edges[0]\n",
    "    hist_centers = hist_edges[:-1] + bin_size / 2\n",
    "    \n",
    "    \n",
    "    for player_id, player_model in players_models.items():\n",
    "        players_ranked[\"p_id\"].append(player_id)\n",
    "        players_ranked[\"rank\"].append(player_rank_em(player_model, simpl_dens_hist,\n",
    "                                                     bin_size, hist_centers))\n",
    "        \n",
    "    return pd.DataFrame(players_ranked[\"rank\"],\n",
    "                        columns=[\"rank\"],\n",
    "                        index=players_ranked[\"p_id\"])"
   ]
  },
  {
   "cell_type": "code",
   "execution_count": 96,
   "id": "cf934b22",
   "metadata": {},
   "outputs": [
    {
     "name": "stdout",
     "output_type": "stream",
     "text": [
      "CPU times: user 2.89 s, sys: 310 ms, total: 3.2 s\n",
      "Wall time: 3.28 s\n"
     ]
    }
   ],
   "source": [
    "%%time\n",
    "P_ranked_df_0 = players_ranking(P_vs_Q_train_em, p_models)"
   ]
  },
  {
   "cell_type": "code",
   "execution_count": 98,
   "id": "a5c97d99",
   "metadata": {},
   "outputs": [
    {
     "name": "stderr",
     "output_type": "stream",
     "text": [
      "100%|████████████████████████████████████████| 660/660 [00:02<00:00, 247.40it/s]"
     ]
    },
    {
     "name": "stdout",
     "output_type": "stream",
     "text": [
      "Spearman: 0.7744889865572675\n",
      "Kendall: 0.6183667791886942\n",
      "\n"
     ]
    },
    {
     "name": "stderr",
     "output_type": "stream",
     "text": [
      "\n"
     ]
    }
   ],
   "source": [
    "# metrics\n",
    "spearman, kendall = eval_spearman_and_kendall(R_test, P_ranked_df_0)\n",
    "print(f\"Spearman: {spearman}\\nKendall: {kendall}\", end='\\n\\n')"
   ]
  },
  {
   "cell_type": "code",
   "execution_count": 99,
   "id": "0ecd931c",
   "metadata": {},
   "outputs": [],
   "source": [
    "def e_step(P_vs_Q_df):\n",
    "    P_vs_Q_df[\"p_answer\"] = P_vs_Q_df[\"pred\"]  # answer = predictions\n",
    "    P_vs_Q_df_copy = P_vs_Q_df.copy()  # intermediate calculations\n",
    "    \n",
    "    # for product calculation\n",
    "    P_vs_Q_df_copy[\"1 - pred\"] = 1 - P_vs_Q_df_copy[\"pred\"]\n",
    "    # prod_{player_j in team_k} (1 - P(player_j | answer, theta_j))\n",
    "    P_vs_Q_df_copy[\"product\"] = P_vs_Q_df_copy[\"t_id\"].map(P_vs_Q_df_copy.groupby(\"t_id\")[\"1 - pred\"].prod())\n",
    "    # exp. value Z^{(k)}_{player, question}\n",
    "    P_vs_Q_df_copy[\"p_answer\"] /= (1 - P_vs_Q_df_copy[\"product\"])\n",
    "    P_vs_Q_df_copy[\"p_answer\"].fillna(0.0, inplace=True)\n",
    "    \n",
    "    P_vs_Q_df_copy = P_vs_Q_df_copy.merge(\n",
    "        P_vs_Q_df_copy.groupby([\"t_id\", \"q_id\"]).agg({\"p_answer\":\"mean\"}),\n",
    "        left_on=[\"t_id\", \"q_id\"], right_index=True, suffixes=(\"\", \"_team_mean\"))\n",
    "    \n",
    "    P_vs_Q_df[\"p_answer\"] = P_vs_Q_df_copy[\"p_answer_team_mean\"]"
   ]
  },
  {
   "cell_type": "code",
   "execution_count": 100,
   "id": "9ac31356",
   "metadata": {},
   "outputs": [
    {
     "name": "stdout",
     "output_type": "stream",
     "text": [
      "Iteration 1/3\n"
     ]
    },
    {
     "name": "stderr",
     "output_type": "stream",
     "text": [
      "100%|████████████████████████████████████| 56865/56865 [07:29<00:00, 126.52it/s]\n",
      "100%|████████████████████████████| 16119246/16119246 [05:41<00:00, 47223.68it/s]\n",
      " 67%|██████████████████████████▊             | 443/660 [00:02<00:01, 140.32it/s]/opt/anaconda3/lib/python3.8/site-packages/scipy/stats/_stats_py.py:4529: SpearmanRConstantInputWarning: An input array is constant; the correlation coefficient is not defined.\n",
      "  warnings.warn(SpearmanRConstantInputWarning())\n",
      "100%|████████████████████████████████████████| 660/660 [00:03<00:00, 169.38it/s]\n"
     ]
    },
    {
     "name": "stdout",
     "output_type": "stream",
     "text": [
      "Spearman 1: 0.7908300375596223\n",
      "Kendall 1: 0.6355124800026671\n",
      "\n",
      "Iteration 2/3\n"
     ]
    },
    {
     "name": "stderr",
     "output_type": "stream",
     "text": [
      "100%|████████████████████████████████████| 56865/56865 [08:23<00:00, 112.83it/s]\n",
      "100%|████████████████████████████| 16119246/16119246 [05:32<00:00, 48440.35it/s]\n",
      " 70%|███████████████████████████▊            | 459/660 [00:03<00:01, 101.81it/s]/opt/anaconda3/lib/python3.8/site-packages/scipy/stats/_stats_py.py:4529: SpearmanRConstantInputWarning: An input array is constant; the correlation coefficient is not defined.\n",
      "  warnings.warn(SpearmanRConstantInputWarning())\n",
      "100%|████████████████████████████████████████| 660/660 [00:03<00:00, 168.36it/s]\n"
     ]
    },
    {
     "name": "stdout",
     "output_type": "stream",
     "text": [
      "Spearman 2: 0.7947587298000981\n",
      "Kendall 2: 0.6392175825591845\n",
      "\n",
      "Iteration 3/3\n"
     ]
    },
    {
     "name": "stderr",
     "output_type": "stream",
     "text": [
      "100%|████████████████████████████████████| 56865/56865 [08:25<00:00, 112.42it/s]\n",
      "100%|████████████████████████████| 16119246/16119246 [05:47<00:00, 46451.89it/s]\n",
      " 67%|██████████████████████████▊             | 443/660 [00:02<00:01, 133.59it/s]/opt/anaconda3/lib/python3.8/site-packages/scipy/stats/_stats_py.py:4529: SpearmanRConstantInputWarning: An input array is constant; the correlation coefficient is not defined.\n",
      "  warnings.warn(SpearmanRConstantInputWarning())\n",
      "100%|████████████████████████████████████████| 660/660 [00:03<00:00, 165.45it/s]\n"
     ]
    },
    {
     "name": "stdout",
     "output_type": "stream",
     "text": [
      "Spearman 3: 0.7954990615786333\n",
      "Kendall 3: 0.6389299586964607\n",
      "\n",
      "CPU times: user 1h 31min 42s, sys: 3min 48s, total: 1h 35min 31s\n",
      "Wall time: 42min 18s\n"
     ]
    }
   ],
   "source": [
    "%%time\n",
    "n_iter = 3\n",
    "\n",
    "for iter_ind in range(n_iter):\n",
    "    print(f\"Iteration {iter_ind + 1}/{n_iter}\")\n",
    "    e_step(P_vs_Q_train_em)\n",
    "    m_step(P_vs_Q_train_em, p_models)\n",
    "    pred_update(P_vs_Q_train_em, p_models)\n",
    "    \n",
    "    new_ranking = players_ranking(P_vs_Q_train_em, p_models)\n",
    "    \n",
    "    # metrics\n",
    "    spearman, kendall = eval_spearman_and_kendall(R_test, new_ranking)\n",
    "    print(f\"Spearman {iter_ind + 1}: {spearman}\\nKendall {iter_ind + 1}: {kendall}\", end='\\n\\n')\n",
    "    \n",
    "    # serialization\n",
    "    # dump_pickle(P_vs_Q_train_em, f\"data/em/em_{iter_ind + 1}.pkl\")\n",
    "    new_ranking.to_csv(f\"data/em/players_ranking_em_{iter_ind + 1}.csv\", index=True)"
   ]
  },
  {
   "cell_type": "markdown",
   "id": "74ef2ba2",
   "metadata": {},
   "source": [
    "Наблюдаем медленный рост метрик"
   ]
  },
  {
   "cell_type": "markdown",
   "id": "48ed1fa1",
   "metadata": {},
   "source": [
    "### >> Посчитанные топы игроков на каждом шаге"
   ]
  },
  {
   "cell_type": "code",
   "execution_count": 102,
   "id": "018234a8",
   "metadata": {},
   "outputs": [
    {
     "name": "stdout",
     "output_type": "stream",
     "text": [
      "Iteration 1/3\n"
     ]
    },
    {
     "name": "stderr",
     "output_type": "stream",
     "text": [
      " 69%|███████████████████████████▊            | 458/660 [00:02<00:01, 156.65it/s]/opt/anaconda3/lib/python3.8/site-packages/scipy/stats/_stats_py.py:4529: SpearmanRConstantInputWarning: An input array is constant; the correlation coefficient is not defined.\n",
      "  warnings.warn(SpearmanRConstantInputWarning())\n",
      "100%|████████████████████████████████████████| 660/660 [00:02<00:00, 227.66it/s]\n"
     ]
    },
    {
     "name": "stdout",
     "output_type": "stream",
     "text": [
      "Spearman 1: 0.7908300375596223\n",
      "Kendall 1: 0.6355124800026671\n",
      "\n",
      "Iteration 2/3\n"
     ]
    },
    {
     "name": "stderr",
     "output_type": "stream",
     "text": [
      " 67%|██████████████████████████▊             | 442/660 [00:01<00:00, 233.04it/s]/opt/anaconda3/lib/python3.8/site-packages/scipy/stats/_stats_py.py:4529: SpearmanRConstantInputWarning: An input array is constant; the correlation coefficient is not defined.\n",
      "  warnings.warn(SpearmanRConstantInputWarning())\n",
      "100%|████████████████████████████████████████| 660/660 [00:02<00:00, 262.51it/s]\n"
     ]
    },
    {
     "name": "stdout",
     "output_type": "stream",
     "text": [
      "Spearman 2: 0.7947587298000981\n",
      "Kendall 2: 0.6392175825591845\n",
      "\n",
      "Iteration 3/3\n"
     ]
    },
    {
     "name": "stderr",
     "output_type": "stream",
     "text": [
      " 68%|███████████████████████████             | 446/660 [00:01<00:01, 197.62it/s]/opt/anaconda3/lib/python3.8/site-packages/scipy/stats/_stats_py.py:4529: SpearmanRConstantInputWarning: An input array is constant; the correlation coefficient is not defined.\n",
      "  warnings.warn(SpearmanRConstantInputWarning())\n",
      "100%|████████████████████████████████████████| 660/660 [00:02<00:00, 243.13it/s]"
     ]
    },
    {
     "name": "stdout",
     "output_type": "stream",
     "text": [
      "Spearman 3: 0.7954990615786333\n",
      "Kendall 3: 0.6389299586964607\n",
      "\n"
     ]
    },
    {
     "name": "stderr",
     "output_type": "stream",
     "text": [
      "\n"
     ]
    }
   ],
   "source": [
    "for iter_ind in range(n_iter):\n",
    "    print(f\"Iteration {iter_ind + 1}/{n_iter}\")\n",
    "    \n",
    "    new_ranking = pd.read_csv(f\"data/em/players_ranking_em_{iter_ind + 1}.csv\", index_col=[0])\n",
    "    \n",
    "    # metrics\n",
    "    spearman, kendall = eval_spearman_and_kendall(R_test, new_ranking)\n",
    "    print(f\"Spearman {iter_ind + 1}: {spearman}\\nKendall {iter_ind + 1}: {kendall}\", end='\\n\\n')"
   ]
  },
  {
   "cell_type": "markdown",
   "id": "f8413268",
   "metadata": {},
   "source": [
    "### Часть 5.\n",
    "\n",
    "А что там с вопросами? Постройте “рейтинг-лист” турниров по сложности вопросов. Соответствует ли он интуиции (например, на чемпионате мира в целом должны быть сложные вопросы, а на турнирах для школьников — простые)?"
   ]
  },
  {
   "cell_type": "code",
   "execution_count": 103,
   "id": "75306136",
   "metadata": {},
   "outputs": [
    {
     "data": {
      "text/html": [
       "<div>\n",
       "<style scoped>\n",
       "    .dataframe tbody tr th:only-of-type {\n",
       "        vertical-align: middle;\n",
       "    }\n",
       "\n",
       "    .dataframe tbody tr th {\n",
       "        vertical-align: top;\n",
       "    }\n",
       "\n",
       "    .dataframe thead th {\n",
       "        text-align: right;\n",
       "    }\n",
       "</style>\n",
       "<table border=\"1\" class=\"dataframe\">\n",
       "  <thead>\n",
       "    <tr style=\"text-align: right;\">\n",
       "      <th></th>\n",
       "      <th>q_id</th>\n",
       "      <th>simplicity</th>\n",
       "    </tr>\n",
       "  </thead>\n",
       "  <tbody>\n",
       "    <tr>\n",
       "      <th>0</th>\n",
       "      <td>2386000</td>\n",
       "      <td>0.883117</td>\n",
       "    </tr>\n",
       "    <tr>\n",
       "      <th>1</th>\n",
       "      <td>2386001</td>\n",
       "      <td>0.779221</td>\n",
       "    </tr>\n",
       "    <tr>\n",
       "      <th>2</th>\n",
       "      <td>2386002</td>\n",
       "      <td>0.445887</td>\n",
       "    </tr>\n",
       "    <tr>\n",
       "      <th>3</th>\n",
       "      <td>2386003</td>\n",
       "      <td>0.519481</td>\n",
       "    </tr>\n",
       "    <tr>\n",
       "      <th>4</th>\n",
       "      <td>2386004</td>\n",
       "      <td>0.878788</td>\n",
       "    </tr>\n",
       "  </tbody>\n",
       "</table>\n",
       "</div>"
      ],
      "text/plain": [
       "      q_id  simplicity\n",
       "0  2386000    0.883117\n",
       "1  2386001    0.779221\n",
       "2  2386002    0.445887\n",
       "3  2386003    0.519481\n",
       "4  2386004    0.878788"
      ]
     },
     "execution_count": 103,
     "metadata": {},
     "output_type": "execute_result"
    }
   ],
   "source": [
    "Q_simp_df = P_vs_Q_train_em.groupby(\"q_id\")[\"simplicity\"].first().to_frame()\n",
    "Q_simp_df.reset_index(inplace=True)\n",
    "Q_simp_df.head()"
   ]
  },
  {
   "cell_type": "code",
   "execution_count": 104,
   "id": "dfe662aa",
   "metadata": {},
   "outputs": [],
   "source": [
    "def tours_ranking(tournaments, q_simp_df):\n",
    "    '''\n",
    "    Ranking tours according to the average questions simplicity got from EM\n",
    "    '''\n",
    "    tours_simp = {\"id\": [], \"name\": [], \"simplicity\": []}\n",
    "    for tour_id, tour in tournaments.items():\n",
    "        tours_simp[\"id\"].append(tour[\"id\"])\n",
    "        tours_simp[\"name\"].append(tour[\"name\"])\n",
    "        # reminder: we have indexed all questionds according to tournament \n",
    "        q_id_this_tour = get_q_id(tour_id, 0)\n",
    "        q_id_next_tour = get_q_id(tour_id + 1, 0)\n",
    "        tour_q = q_simp_df[(q_simp_df[\"q_id\"] >= q_id_this_tour) & \n",
    "                           (q_simp_df[\"q_id\"] < q_id_next_tour)]\n",
    "        \n",
    "        tours_simp[\"simplicity\"].append(tour_q[\"simplicity\"].mean())  # mean questions simplicity\n",
    "    return pd.DataFrame.from_dict(tours_simp)"
   ]
  },
  {
   "cell_type": "code",
   "execution_count": 105,
   "id": "6bd9b868",
   "metadata": {},
   "outputs": [],
   "source": [
    "T_simp_df = tours_ranking(T_train, Q_simp_df)\n",
    "T_simp_df.sort_values(by=\"simplicity\", inplace=True)"
   ]
  },
  {
   "cell_type": "code",
   "execution_count": 106,
   "id": "bd8be051",
   "metadata": {},
   "outputs": [
    {
     "data": {
      "text/html": [
       "<div>\n",
       "<style scoped>\n",
       "    .dataframe tbody tr th:only-of-type {\n",
       "        vertical-align: middle;\n",
       "    }\n",
       "\n",
       "    .dataframe tbody tr th {\n",
       "        vertical-align: top;\n",
       "    }\n",
       "\n",
       "    .dataframe thead th {\n",
       "        text-align: right;\n",
       "    }\n",
       "</style>\n",
       "<table border=\"1\" class=\"dataframe\">\n",
       "  <thead>\n",
       "    <tr style=\"text-align: right;\">\n",
       "      <th></th>\n",
       "      <th>id</th>\n",
       "      <th>name</th>\n",
       "      <th>simplicity</th>\n",
       "    </tr>\n",
       "  </thead>\n",
       "  <tbody>\n",
       "    <tr>\n",
       "      <th>652</th>\n",
       "      <td>6149</td>\n",
       "      <td>Чемпионат Санкт-Петербурга. Первая лига</td>\n",
       "      <td>0.000000</td>\n",
       "    </tr>\n",
       "    <tr>\n",
       "      <th>382</th>\n",
       "      <td>5717</td>\n",
       "      <td>Чемпионат Таджикистана</td>\n",
       "      <td>0.090598</td>\n",
       "    </tr>\n",
       "    <tr>\n",
       "      <th>289</th>\n",
       "      <td>5599</td>\n",
       "      <td>Чемпионат Туркменистана</td>\n",
       "      <td>0.155952</td>\n",
       "    </tr>\n",
       "    <tr>\n",
       "      <th>568</th>\n",
       "      <td>5976</td>\n",
       "      <td>Открытый Студенческий чемпионат Краснодарского...</td>\n",
       "      <td>0.164352</td>\n",
       "    </tr>\n",
       "    <tr>\n",
       "      <th>656</th>\n",
       "      <td>6161</td>\n",
       "      <td>Студенческий чемпионат Тюменской области</td>\n",
       "      <td>0.176812</td>\n",
       "    </tr>\n",
       "    <tr>\n",
       "      <th>364</th>\n",
       "      <td>5684</td>\n",
       "      <td>Синхрон высшей лиги Москвы</td>\n",
       "      <td>0.188571</td>\n",
       "    </tr>\n",
       "    <tr>\n",
       "      <th>142</th>\n",
       "      <td>5426</td>\n",
       "      <td>Зимник</td>\n",
       "      <td>0.200926</td>\n",
       "    </tr>\n",
       "    <tr>\n",
       "      <th>324</th>\n",
       "      <td>5637</td>\n",
       "      <td>Чемпионат Кыргызстана</td>\n",
       "      <td>0.201389</td>\n",
       "    </tr>\n",
       "    <tr>\n",
       "      <th>533</th>\n",
       "      <td>5928</td>\n",
       "      <td>Угрюмый Ёрш</td>\n",
       "      <td>0.203492</td>\n",
       "    </tr>\n",
       "    <tr>\n",
       "      <th>604</th>\n",
       "      <td>6027</td>\n",
       "      <td>ТрЭК-13</td>\n",
       "      <td>0.203604</td>\n",
       "    </tr>\n",
       "    <tr>\n",
       "      <th>583</th>\n",
       "      <td>5993</td>\n",
       "      <td>Енисейская знать</td>\n",
       "      <td>0.203704</td>\n",
       "    </tr>\n",
       "    <tr>\n",
       "      <th>640</th>\n",
       "      <td>6120</td>\n",
       "      <td>Открытый кубок МВУТ</td>\n",
       "      <td>0.207729</td>\n",
       "    </tr>\n",
       "    <tr>\n",
       "      <th>13</th>\n",
       "      <td>5025</td>\n",
       "      <td>Кубок городов</td>\n",
       "      <td>0.217573</td>\n",
       "    </tr>\n",
       "    <tr>\n",
       "      <th>588</th>\n",
       "      <td>5998</td>\n",
       "      <td>Memento memes IV</td>\n",
       "      <td>0.219111</td>\n",
       "    </tr>\n",
       "    <tr>\n",
       "      <th>279</th>\n",
       "      <td>5587</td>\n",
       "      <td>Записки охотника</td>\n",
       "      <td>0.219404</td>\n",
       "    </tr>\n",
       "    <tr>\n",
       "      <th>578</th>\n",
       "      <td>5987</td>\n",
       "      <td>Осенний кубок Барнаула</td>\n",
       "      <td>0.222656</td>\n",
       "    </tr>\n",
       "    <tr>\n",
       "      <th>167</th>\n",
       "      <td>5453</td>\n",
       "      <td>Кубок губернатора Иркутской области</td>\n",
       "      <td>0.224242</td>\n",
       "    </tr>\n",
       "    <tr>\n",
       "      <th>43</th>\n",
       "      <td>5159</td>\n",
       "      <td>Первенство правого полушария</td>\n",
       "      <td>0.227981</td>\n",
       "    </tr>\n",
       "    <tr>\n",
       "      <th>161</th>\n",
       "      <td>5447</td>\n",
       "      <td>Фестиваль ЗабГУ</td>\n",
       "      <td>0.229167</td>\n",
       "    </tr>\n",
       "    <tr>\n",
       "      <th>143</th>\n",
       "      <td>5427</td>\n",
       "      <td>День D</td>\n",
       "      <td>0.236715</td>\n",
       "    </tr>\n",
       "  </tbody>\n",
       "</table>\n",
       "</div>"
      ],
      "text/plain": [
       "       id                                               name  simplicity\n",
       "652  6149            Чемпионат Санкт-Петербурга. Первая лига    0.000000\n",
       "382  5717                             Чемпионат Таджикистана    0.090598\n",
       "289  5599                            Чемпионат Туркменистана    0.155952\n",
       "568  5976  Открытый Студенческий чемпионат Краснодарского...    0.164352\n",
       "656  6161           Студенческий чемпионат Тюменской области    0.176812\n",
       "364  5684                         Синхрон высшей лиги Москвы    0.188571\n",
       "142  5426                                             Зимник    0.200926\n",
       "324  5637                              Чемпионат Кыргызстана    0.201389\n",
       "533  5928                                        Угрюмый Ёрш    0.203492\n",
       "604  6027                                            ТрЭК-13    0.203604\n",
       "583  5993                                   Енисейская знать    0.203704\n",
       "640  6120                                Открытый кубок МВУТ    0.207729\n",
       "13   5025                                      Кубок городов    0.217573\n",
       "588  5998                                   Memento memes IV    0.219111\n",
       "279  5587                                   Записки охотника    0.219404\n",
       "578  5987                             Осенний кубок Барнаула    0.222656\n",
       "167  5453                Кубок губернатора Иркутской области    0.224242\n",
       "43   5159                       Первенство правого полушария    0.227981\n",
       "161  5447                                    Фестиваль ЗабГУ    0.229167\n",
       "143  5427                                             День D    0.236715"
      ]
     },
     "execution_count": 106,
     "metadata": {},
     "output_type": "execute_result"
    }
   ],
   "source": [
    "# top of hardest tournaments (lowest mean simplicity of questions)\n",
    "T_simp_df.head(20)"
   ]
  },
  {
   "cell_type": "markdown",
   "id": "6be3854d",
   "metadata": {},
   "source": [
    "Видимо, _Первая лига чемпионата СПб_ настолько сложная, что ни одна команда-участница не ответила ни на один вопрос."
   ]
  },
  {
   "cell_type": "code",
   "execution_count": 107,
   "id": "6828a442",
   "metadata": {},
   "outputs": [
    {
     "data": {
      "text/html": [
       "<div>\n",
       "<style scoped>\n",
       "    .dataframe tbody tr th:only-of-type {\n",
       "        vertical-align: middle;\n",
       "    }\n",
       "\n",
       "    .dataframe tbody tr th {\n",
       "        vertical-align: top;\n",
       "    }\n",
       "\n",
       "    .dataframe thead th {\n",
       "        text-align: right;\n",
       "    }\n",
       "</style>\n",
       "<table border=\"1\" class=\"dataframe\">\n",
       "  <thead>\n",
       "    <tr style=\"text-align: right;\">\n",
       "      <th></th>\n",
       "      <th>id</th>\n",
       "      <th>name</th>\n",
       "      <th>simplicity</th>\n",
       "    </tr>\n",
       "  </thead>\n",
       "  <tbody>\n",
       "    <tr>\n",
       "      <th>461</th>\n",
       "      <td>5828</td>\n",
       "      <td>Гарри Поттер и 3 по 12</td>\n",
       "      <td>0.596115</td>\n",
       "    </tr>\n",
       "    <tr>\n",
       "      <th>198</th>\n",
       "      <td>5489</td>\n",
       "      <td>Школьнае люстэрка</td>\n",
       "      <td>0.596610</td>\n",
       "    </tr>\n",
       "    <tr>\n",
       "      <th>38</th>\n",
       "      <td>5130</td>\n",
       "      <td>Лига Сибири. VI тур.</td>\n",
       "      <td>0.597425</td>\n",
       "    </tr>\n",
       "    <tr>\n",
       "      <th>27</th>\n",
       "      <td>5097</td>\n",
       "      <td>Самая лёгкая лодка в мире</td>\n",
       "      <td>0.600122</td>\n",
       "    </tr>\n",
       "    <tr>\n",
       "      <th>33</th>\n",
       "      <td>5111</td>\n",
       "      <td>Открытый чемпионат Кипра</td>\n",
       "      <td>0.601111</td>\n",
       "    </tr>\n",
       "    <tr>\n",
       "      <th>107</th>\n",
       "      <td>5388</td>\n",
       "      <td>Олимпиада Приволжского федерального округа. Финал</td>\n",
       "      <td>0.603571</td>\n",
       "    </tr>\n",
       "    <tr>\n",
       "      <th>581</th>\n",
       "      <td>5991</td>\n",
       "      <td>Joystick Cup</td>\n",
       "      <td>0.609477</td>\n",
       "    </tr>\n",
       "    <tr>\n",
       "      <th>291</th>\n",
       "      <td>5601</td>\n",
       "      <td>Межфакультетский кубок МГУ. Отбор №4</td>\n",
       "      <td>0.612500</td>\n",
       "    </tr>\n",
       "    <tr>\n",
       "      <th>484</th>\n",
       "      <td>5857</td>\n",
       "      <td>Летний салат</td>\n",
       "      <td>0.616024</td>\n",
       "    </tr>\n",
       "    <tr>\n",
       "      <th>393</th>\n",
       "      <td>5729</td>\n",
       "      <td>Синхрон-lite. Выпуск XXX</td>\n",
       "      <td>0.625827</td>\n",
       "    </tr>\n",
       "    <tr>\n",
       "      <th>323</th>\n",
       "      <td>5636</td>\n",
       "      <td>Кубок Закарпатья</td>\n",
       "      <td>0.627315</td>\n",
       "    </tr>\n",
       "    <tr>\n",
       "      <th>460</th>\n",
       "      <td>5827</td>\n",
       "      <td>Шестой киевский марафон. Асинхрон</td>\n",
       "      <td>0.629500</td>\n",
       "    </tr>\n",
       "    <tr>\n",
       "      <th>516</th>\n",
       "      <td>5899</td>\n",
       "      <td>Ничто, нигде, никогда</td>\n",
       "      <td>0.634921</td>\n",
       "    </tr>\n",
       "    <tr>\n",
       "      <th>537</th>\n",
       "      <td>5935</td>\n",
       "      <td>Асинхрон по «Королю и Шуту»</td>\n",
       "      <td>0.648246</td>\n",
       "    </tr>\n",
       "    <tr>\n",
       "      <th>638</th>\n",
       "      <td>6115</td>\n",
       "      <td>Чемпионат МГУ. Высшая лига. Второй игровой день</td>\n",
       "      <td>0.660494</td>\n",
       "    </tr>\n",
       "    <tr>\n",
       "      <th>244</th>\n",
       "      <td>5540</td>\n",
       "      <td>Регулярный чемпионат МГУ. Высшая лига. Третий ...</td>\n",
       "      <td>0.663580</td>\n",
       "    </tr>\n",
       "    <tr>\n",
       "      <th>390</th>\n",
       "      <td>5726</td>\n",
       "      <td>Первый турнир имени Джоуи Триббиани</td>\n",
       "      <td>0.683692</td>\n",
       "    </tr>\n",
       "    <tr>\n",
       "      <th>560</th>\n",
       "      <td>5963</td>\n",
       "      <td>Асинхрон по South Park</td>\n",
       "      <td>0.740741</td>\n",
       "    </tr>\n",
       "    <tr>\n",
       "      <th>590</th>\n",
       "      <td>6003</td>\n",
       "      <td>Второй тематический турнир имени Джоуи Триббиани</td>\n",
       "      <td>0.745885</td>\n",
       "    </tr>\n",
       "    <tr>\n",
       "      <th>153</th>\n",
       "      <td>5438</td>\n",
       "      <td>Синхрон Лиги Разума</td>\n",
       "      <td>0.806015</td>\n",
       "    </tr>\n",
       "  </tbody>\n",
       "</table>\n",
       "</div>"
      ],
      "text/plain": [
       "       id                                               name  simplicity\n",
       "461  5828                             Гарри Поттер и 3 по 12    0.596115\n",
       "198  5489                                  Школьнае люстэрка    0.596610\n",
       "38   5130                               Лига Сибири. VI тур.    0.597425\n",
       "27   5097                          Самая лёгкая лодка в мире    0.600122\n",
       "33   5111                           Открытый чемпионат Кипра    0.601111\n",
       "107  5388  Олимпиада Приволжского федерального округа. Финал    0.603571\n",
       "581  5991                                       Joystick Cup    0.609477\n",
       "291  5601               Межфакультетский кубок МГУ. Отбор №4    0.612500\n",
       "484  5857                                       Летний салат    0.616024\n",
       "393  5729                           Синхрон-lite. Выпуск XXX    0.625827\n",
       "323  5636                                   Кубок Закарпатья    0.627315\n",
       "460  5827                  Шестой киевский марафон. Асинхрон    0.629500\n",
       "516  5899                              Ничто, нигде, никогда    0.634921\n",
       "537  5935                        Асинхрон по «Королю и Шуту»    0.648246\n",
       "638  6115    Чемпионат МГУ. Высшая лига. Второй игровой день    0.660494\n",
       "244  5540  Регулярный чемпионат МГУ. Высшая лига. Третий ...    0.663580\n",
       "390  5726                Первый турнир имени Джоуи Триббиани    0.683692\n",
       "560  5963                             Асинхрон по South Park    0.740741\n",
       "590  6003   Второй тематический турнир имени Джоуи Триббиани    0.745885\n",
       "153  5438                                Синхрон Лиги Разума    0.806015"
      ]
     },
     "execution_count": 107,
     "metadata": {},
     "output_type": "execute_result"
    }
   ],
   "source": [
    "# top of easyest tournaments (lowest mean simplicity of questions)\n",
    "T_simp_df.tail(20)"
   ]
  },
  {
   "cell_type": "markdown",
   "id": "548256cf",
   "metadata": {},
   "source": [
    "В хвосте рейтинга действительно много чего-то _несерьезного_ по типу _\"Асинхрона по South Park\"_ или _\"Гарри Поттер и 3 по 12\"_"
   ]
  },
  {
   "cell_type": "code",
   "execution_count": null,
   "id": "4c7ada1e",
   "metadata": {},
   "outputs": [],
   "source": []
  }
 ],
 "metadata": {
  "kernelspec": {
   "display_name": "Python 3 (ipykernel)",
   "language": "python",
   "name": "python3"
  },
  "language_info": {
   "codemirror_mode": {
    "name": "ipython",
    "version": 3
   },
   "file_extension": ".py",
   "mimetype": "text/x-python",
   "name": "python",
   "nbconvert_exporter": "python",
   "pygments_lexer": "ipython3",
   "version": "3.8.13"
  }
 },
 "nbformat": 4,
 "nbformat_minor": 5
}
